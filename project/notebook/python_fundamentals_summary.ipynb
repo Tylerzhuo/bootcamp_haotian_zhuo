{
 "cells": [
  {
   "cell_type": "code",
   "execution_count": 5,
   "id": "eabcdb9e7369dbca",
   "metadata": {
    "collapsed": true,
    "ExecuteTime": {
     "end_time": "2025-08-20T14:10:44.014624Z",
     "start_time": "2025-08-20T14:10:44.012229Z"
    }
   },
   "outputs": [],
   "source": [
    "import pandas as pd\n",
    "import numpy as np"
   ]
  },
  {
   "cell_type": "code",
   "execution_count": 6,
   "outputs": [
    {
     "name": "stdout",
     "output_type": "stream",
     "text": [
      "Dataset preview:\n",
      "   id  age  income\n",
      "0   1   18    9744\n",
      "1   2   21    6468\n",
      "2   3   21    9458\n",
      "3   4   57    3705\n",
      "4   5   27    5599\n"
     ]
    }
   ],
   "source": [
    "np.random.seed(0)\n",
    "df = pd.DataFrame({\n",
    "    \"id\": range(1, 11),\n",
    "    \"age\": np.random.randint(18, 60, size=10),\n",
    "    \"income\": np.random.randint(3000, 10000, size=10)\n",
    "})\n",
    "\n",
    "print(\"Dataset preview:\")\n",
    "print(df.head())"
   ],
   "metadata": {
    "collapsed": false,
    "ExecuteTime": {
     "end_time": "2025-08-20T14:11:15.195338Z",
     "start_time": "2025-08-20T14:11:15.191898Z"
    }
   },
   "id": "a494c785c8560f70"
  },
  {
   "cell_type": "code",
   "execution_count": 7,
   "outputs": [
    {
     "name": "stdout",
     "output_type": "stream",
     "text": [
      "\n",
      "Summary statistics:\n",
      "             id        age       income\n",
      "count  10.00000  10.000000    10.000000\n",
      "mean    5.50000  33.900000  5946.600000\n",
      "std     3.02765  13.963842  2126.852719\n",
      "min     1.00000  18.000000  3537.000000\n",
      "25%     3.25000  21.750000  4809.500000\n",
      "50%     5.50000  32.000000  5410.500000\n",
      "75%     7.75000  40.500000  6325.250000\n",
      "max    10.00000  57.000000  9744.000000\n"
     ]
    }
   ],
   "source": [
    "# summary\n",
    "print(\"\\nSummary statistics:\")\n",
    "print(df.describe())"
   ],
   "metadata": {
    "collapsed": false,
    "ExecuteTime": {
     "end_time": "2025-08-20T14:11:15.699660Z",
     "start_time": "2025-08-20T14:11:15.695156Z"
    }
   },
   "id": "initial_id"
  },
  {
   "cell_type": "code",
   "execution_count": null,
   "outputs": [],
   "source": [],
   "metadata": {
    "collapsed": false
   },
   "id": "31f082955b16d598"
  }
 ],
 "metadata": {
  "kernelspec": {
   "display_name": "Python 3",
   "language": "python",
   "name": "python3"
  },
  "language_info": {
   "codemirror_mode": {
    "name": "ipython",
    "version": 2
   },
   "file_extension": ".py",
   "mimetype": "text/x-python",
   "name": "python",
   "nbconvert_exporter": "python",
   "pygments_lexer": "ipython2",
   "version": "2.7.6"
  }
 },
 "nbformat": 4,
 "nbformat_minor": 5
}
