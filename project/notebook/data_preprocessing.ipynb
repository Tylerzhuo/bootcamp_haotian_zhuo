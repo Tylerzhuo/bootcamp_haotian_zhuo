{
 "cells": [
  {
   "cell_type": "code",
   "execution_count": 1,
   "id": "initial_id",
   "metadata": {
    "collapsed": true,
    "ExecuteTime": {
     "end_time": "2025-08-20T15:31:44.895972Z",
     "start_time": "2025-08-20T15:31:44.259387Z"
    }
   },
   "outputs": [],
   "source": [
    "import sys\n",
    "sys.path.append(\"../src\")\n",
    "from cleaning import *"
   ]
  },
  {
   "cell_type": "code",
   "execution_count": 2,
   "outputs": [],
   "source": [
    "def preprocess(symbol: str, raw_path=\"../data/raw\", out_path=\"../data/processed\") -> pd.DataFrame:\n",
    "    \"\"\"Full preprocessing pipeline for one ticker.\"\"\"\n",
    "    df = load_raw(symbol, raw_path)\n",
    "    df = drop_missing(df)\n",
    "    df = rename_columns(df)\n",
    "    df = enforce_types(df)\n",
    "    # Save processed file\n",
    "    out_file = f\"{out_path}/{symbol}_clean.csv\"\n",
    "    df.to_csv(out_file)\n",
    "    print(f\"Saved cleaned data for {symbol} → {out_file}\")\n",
    "    return df"
   ],
   "metadata": {
    "collapsed": false,
    "ExecuteTime": {
     "end_time": "2025-08-20T15:31:44.899243Z",
     "start_time": "2025-08-20T15:31:44.897207Z"
    }
   },
   "id": "8b2bdefc55e43d37"
  },
  {
   "cell_type": "code",
   "execution_count": 3,
   "outputs": [
    {
     "name": "stdout",
     "output_type": "stream",
     "text": [
      "Saved cleaned data for AAPL → ../data/processed/AAPL_clean.csv\n",
      "\n",
      "--- AAPL ---\n",
      "               open     high      low   close      volume symbol\n",
      "2023-08-21  175.070  176.130  173.735  175.84  46311879.0   AAPL\n",
      "2023-08-22  177.060  177.680  176.250  177.23  42084245.0   AAPL\n",
      "2023-08-23  178.520  181.550  178.325  181.12  52722752.0   AAPL\n",
      "2023-08-24  180.674  181.104  176.010  176.38  54945798.0   AAPL\n",
      "2023-08-25  177.380  179.150  175.820  178.61  51449594.0   AAPL\n",
      "             open        high         low       close        volume\n",
      "count  501.000000  501.000000  501.000000  501.000000  5.010000e+02\n",
      "mean   205.300319  207.456666  203.375191  205.536707  5.707950e+07\n",
      "std     23.512079   23.733269   23.220234   23.552550  2.652177e+07\n",
      "min    165.350000  166.400000  164.075000  165.000000  2.323470e+07\n",
      "25%    185.010000  186.950000  183.000000  185.140000  4.284893e+07\n",
      "50%    205.170000  207.880000  201.675000  204.600000  5.132640e+07\n",
      "75%    225.230000  227.780000  223.650100  226.210000  6.254747e+07\n",
      "max    258.190000  260.100000  257.630000  259.020000  3.186799e+08\n",
      "Saved cleaned data for MSFT → ../data/processed/MSFT_clean.csv\n",
      "\n",
      "--- MSFT ---\n",
      "              open     high       low   close      volume symbol\n",
      "2023-08-21  317.93  322.770  317.0400  321.88  24039956.0   MSFT\n",
      "2023-08-22  325.50  326.075  321.4600  322.46  16102024.0   MSFT\n",
      "2023-08-23  323.82  329.200  323.4600  327.00  21166382.0   MSFT\n",
      "2023-08-24  332.85  332.980  319.9600  319.97  23281434.0   MSFT\n",
      "2023-08-25  321.47  325.360  318.8001  322.98  21684104.0   MSFT\n",
      "             open        high         low       close        volume\n",
      "count  501.000000  501.000000  501.000000  501.000000  5.010000e+02\n",
      "mean   413.305635  416.741747  409.669153  413.389451  2.177647e+07\n",
      "std     46.444342   46.345701   46.263385   46.200871  8.208648e+06\n",
      "min    310.990000  314.299000  309.450000  312.140000  7.164543e+06\n",
      "25%    386.000000  391.740000  383.280000  388.470000  1.665309e+07\n",
      "50%    415.600000  418.348000  411.550000  415.280000  1.995285e+07\n",
      "75%    434.280000  438.500000  431.110300  434.560000  2.384978e+07\n",
      "max    555.225000  555.450000  531.900000  535.640000  7.850232e+07\n",
      "Saved cleaned data for SPY → ../data/processed/SPY_clean.csv\n",
      "\n",
      "--- SPY ---\n",
      "              open    high      low   close       volume symbol\n",
      "2023-08-21  437.55  440.11  435.320  439.34   68718957.0    SPY\n",
      "2023-08-22  441.18  441.18  437.570  438.15   65062861.0    SPY\n",
      "2023-08-23  439.25  443.67  439.100  443.03   68441021.0    SPY\n",
      "2023-08-24  444.69  445.22  436.855  436.89   88517272.0    SPY\n",
      "2023-08-25  438.68  441.30  435.000  439.97  102325103.0    SPY\n",
      "             open        high         low       close        volume\n",
      "count  501.000000  501.000000  501.000000  501.000000  5.010000e+02\n",
      "mean   538.961775  541.651605  535.990075  539.086886  6.533064e+07\n",
      "std     59.725851   59.772028   59.478358   59.665375  2.639552e+07\n",
      "min    413.560000  414.600000  409.210000  410.680000  2.604871e+07\n",
      "25%    498.100000  502.200000  495.360000  499.510000  4.683570e+07\n",
      "50%    548.700000  551.600000  543.690000  548.990000  6.318615e+07\n",
      "75%    589.200000  592.600000  585.096900  589.490000  7.614454e+07\n",
      "max    645.990000  646.190000  642.680000  644.950000  2.566114e+08\n"
     ]
    }
   ],
   "source": [
    "symbols = [\"AAPL\", \"MSFT\", \"SPY\"]\n",
    "\n",
    "processed = {}\n",
    "for s in symbols:\n",
    "    df = preprocess(s)\n",
    "    print(f\"\\n--- {s} ---\")\n",
    "    print(df.head())\n",
    "    print(df.describe())\n",
    "    processed[s] = df"
   ],
   "metadata": {
    "collapsed": false,
    "ExecuteTime": {
     "end_time": "2025-08-20T15:31:45.336347Z",
     "start_time": "2025-08-20T15:31:45.284607Z"
    }
   },
   "id": "9af3df209c4fd965"
  },
  {
   "cell_type": "code",
   "execution_count": null,
   "outputs": [],
   "source": [],
   "metadata": {
    "collapsed": false
   },
   "id": "e8cc00e65dca9da"
  }
 ],
 "metadata": {
  "kernelspec": {
   "display_name": "Python 3",
   "language": "python",
   "name": "python3"
  },
  "language_info": {
   "codemirror_mode": {
    "name": "ipython",
    "version": 2
   },
   "file_extension": ".py",
   "mimetype": "text/x-python",
   "name": "python",
   "nbconvert_exporter": "python",
   "pygments_lexer": "ipython2",
   "version": "2.7.6"
  }
 },
 "nbformat": 4,
 "nbformat_minor": 5
}
