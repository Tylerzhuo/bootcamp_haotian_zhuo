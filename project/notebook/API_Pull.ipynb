{
 "cells": [
  {
   "cell_type": "code",
   "execution_count": 1,
   "outputs": [],
   "source": [
    "import os\n",
    "import time\n",
    "import requests\n",
    "import pandas as pd\n",
    "from pathlib import Path\n",
    "from dotenv import load_dotenv\n",
    "\n",
    "# Load API key from .env (env var name per your setup)\n",
    "load_dotenv()\n",
    "API_KEY = os.getenv(\"ALPHA_VANTAGE_KEY\")\n",
    "assert API_KEY, \"Missing ALPHA_VANTAGE_KEY in .env\"\n",
    "\n",
    "BASE_URL = \"https://www.alphavantage.co/query\"\n",
    "\n",
    "RAW = Path(\"../data/raw\")\n",
    "RAW.mkdir(parents=True, exist_ok=True)\n",
    "\n",
    "TICKERS = [\"AAPL\", \"MSFT\", \"SPY\"]  # SPY as S&P 500 proxy"
   ],
   "metadata": {
    "collapsed": false,
    "ExecuteTime": {
     "end_time": "2025-08-20T15:04:11.051203Z",
     "start_time": "2025-08-20T15:04:10.681862Z"
    }
   },
   "id": "28829fc74f74d943"
  },
  {
   "cell_type": "code",
   "execution_count": 2,
   "outputs": [],
   "source": [
    "def _call_alpha_vantage(params, max_retries=3, sleep_seconds=15):\n",
    "    \"\"\"Low-level call with retry on rate-limit Note.\"\"\"\n",
    "    for attempt in range(1, max_retries + 1):\n",
    "        r = requests.get(BASE_URL, params=params, timeout=30)\n",
    "        r.raise_for_status()\n",
    "        js = r.json()\n",
    "        if \"Note\" in js:\n",
    "            if attempt == max_retries:\n",
    "                raise RuntimeError(f\"Rate limit hit; last payload: {js}\")\n",
    "            time.sleep(sleep_seconds)\n",
    "            continue\n",
    "        return js\n",
    "    raise RuntimeError(\"Unexpected loop exit in _call_alpha_vantage\")\n",
    "\n",
    "\n",
    "def pull_daily(symbol: str, outputsize: str = \"full\", try_adjusted_first: bool = True) -> pd.DataFrame:\n",
    "    \"\"\"\n",
    "    Pull daily data for a symbol. Tries TIME_SERIES_DAILY_ADJUSTED first.\n",
    "    Falls back to TIME_SERIES_DAILY if adjusted is not available.\n",
    "    \"\"\"\n",
    "    if try_adjusted_first:\n",
    "        params_adj = {\n",
    "            \"function\": \"TIME_SERIES_DAILY_ADJUSTED\",\n",
    "            \"symbol\": symbol,\n",
    "            \"outputsize\": outputsize,\n",
    "            \"apikey\": API_KEY,\n",
    "            \"datatype\": \"json\",\n",
    "        }\n",
    "        js = _call_alpha_vantage(params_adj)\n",
    "        ts = js.get(\"Time Series (Daily)\")\n",
    "        if ts:\n",
    "            df = pd.DataFrame.from_dict(ts, orient=\"index\", dtype=\"float\")\n",
    "            df.index = pd.to_datetime(df.index)\n",
    "            df.sort_index(inplace=True)\n",
    "            df[\"symbol\"] = symbol\n",
    "            df.attrs[\"schema\"] = \"adjusted\"\n",
    "            return df\n",
    "        else:\n",
    "            print(f\"[{symbol}] Adjusted endpoint unavailable; fallback to DAILY\")\n",
    "\n",
    "    params = {\n",
    "        \"function\": \"TIME_SERIES_DAILY\",\n",
    "        \"symbol\": symbol,\n",
    "        \"outputsize\": outputsize,\n",
    "        \"apikey\": API_KEY,\n",
    "        \"datatype\": \"json\",\n",
    "    }\n",
    "    js = _call_alpha_vantage(params)\n",
    "    ts = js.get(\"Time Series (Daily)\")\n",
    "    if not ts:\n",
    "        raise ValueError(f\"[{symbol}] DAILY endpoint unavailable. Payload: {js}\")\n",
    "    df = pd.DataFrame.from_dict(ts, orient=\"index\", dtype=\"float\")\n",
    "    df.index = pd.to_datetime(df.index)\n",
    "    df.sort_index(inplace=True)\n",
    "    df[\"symbol\"] = symbol\n",
    "    df.attrs[\"schema\"] = \"daily\"\n",
    "    return df"
   ],
   "metadata": {
    "collapsed": false,
    "ExecuteTime": {
     "end_time": "2025-08-20T15:04:11.875120Z",
     "start_time": "2025-08-20T15:04:11.872730Z"
    }
   },
   "id": "2bcf9c39d92928c6"
  },
  {
   "cell_type": "code",
   "execution_count": 3,
   "outputs": [],
   "source": [
    "def keep_recent_years(df: pd.DataFrame, years: int = 2) -> pd.DataFrame:\n",
    "    \"\"\"Return only the last `years` years of data.\"\"\"\n",
    "    cutoff = pd.Timestamp.today().normalize() - pd.DateOffset(years=years)\n",
    "    return df.loc[df.index >= cutoff].copy()"
   ],
   "metadata": {
    "collapsed": false,
    "ExecuteTime": {
     "end_time": "2025-08-20T15:04:13.100345Z",
     "start_time": "2025-08-20T15:04:13.095881Z"
    }
   },
   "id": "ae46af9f4ec0dbe2"
  },
  {
   "cell_type": "code",
   "execution_count": 4,
   "outputs": [
    {
     "name": "stdout",
     "output_type": "stream",
     "text": [
      "[AAPL] Adjusted endpoint unavailable; fallback to DAILY\n",
      "Saved AAPL: ../data/raw/AAPL_daily.csv  rows=501  (schema=daily)\n",
      "[MSFT] Adjusted endpoint unavailable; fallback to DAILY\n",
      "Saved MSFT: ../data/raw/MSFT_daily.csv  rows=501  (schema=daily)\n",
      "[SPY] Adjusted endpoint unavailable; fallback to DAILY\n",
      "Saved SPY: ../data/raw/SPY_daily.csv  rows=501  (schema=daily)\n"
     ]
    }
   ],
   "source": [
    "frames_recent = {}\n",
    "for i, t in enumerate(TICKERS, start=1):\n",
    "    df_full = pull_daily(t, outputsize=\"full\", try_adjusted_first=True)\n",
    "\n",
    "    # Trim to last 2 years\n",
    "    df_recent = keep_recent_years(df_full, years=2)\n",
    "    frames_recent[t] = df_recent\n",
    "\n",
    "    out_path = RAW / f\"{t}_daily.csv\"\n",
    "    df_recent.to_csv(out_path)\n",
    "\n",
    "    print(f\"Saved {t}: {out_path}  rows={len(df_recent)}  (schema={df_full.attrs.get('schema')})\")\n",
    "\n",
    "    if i < len(TICKERS):  # respect API limits\n",
    "        time.sleep(12)"
   ],
   "metadata": {
    "collapsed": false,
    "ExecuteTime": {
     "end_time": "2025-08-20T15:04:42.129094Z",
     "start_time": "2025-08-20T15:04:13.667078Z"
    }
   },
   "id": "5bf50b39b9d7bfb8"
  },
  {
   "cell_type": "code",
   "execution_count": 5,
   "outputs": [
    {
     "name": "stdout",
     "output_type": "stream",
     "text": [
      "AAPL OK — rows=501, 2023-08-21 → 2025-08-19\n",
      "MSFT OK — rows=501, 2023-08-21 → 2025-08-19\n",
      "SPY OK — rows=501, 2023-08-21 → 2025-08-19\n"
     ]
    }
   ],
   "source": [
    "def validate_symbol(symbol: str) -> pd.DataFrame:\n",
    "    \"\"\"\n",
    "    Validate the CSV in data/raw/.\n",
    "    Works for both adjusted and daily schemas.\n",
    "    \"\"\"\n",
    "    path = RAW / f\"{symbol}_daily.csv\"\n",
    "    assert path.exists() and path.stat().st_size > 0, f\"[{symbol}] Missing or empty file\"\n",
    "    df = pd.read_csv(path, parse_dates=[0], index_col=0)\n",
    "\n",
    "    is_adjusted = \"5. adjusted close\" in df.columns\n",
    "    required = ([\n",
    "        \"1. open\", \"2. high\", \"3. low\", \"4. close\",\n",
    "        \"5. adjusted close\", \"6. volume\", \"7. dividend amount\", \"8. split coefficient\",\n",
    "        \"symbol\",\n",
    "    ] if is_adjusted else [\n",
    "        \"1. open\", \"2. high\", \"3. low\", \"4. close\",\n",
    "        \"5. volume\", \"symbol\",\n",
    "    ])\n",
    "\n",
    "    missing = [c for c in required if c not in df.columns]\n",
    "    if missing:\n",
    "        raise ValueError(f\"[{symbol}] Missing columns: {missing}\")\n",
    "\n",
    "    if df.isna().any().any():\n",
    "        raise ValueError(f\"[{symbol}] Missing values detected.\")\n",
    "\n",
    "    print(f\"{symbol} OK — rows={len(df)}, {df.index.min().date()} → {df.index.max().date()}\")\n",
    "    return df\n",
    "\n",
    "\n",
    "validated = {t: validate_symbol(t) for t in TICKERS}"
   ],
   "metadata": {
    "collapsed": false,
    "ExecuteTime": {
     "end_time": "2025-08-20T15:04:43.158908Z",
     "start_time": "2025-08-20T15:04:43.145749Z"
    }
   },
   "id": "e00c52479ba543ae"
  },
  {
   "cell_type": "code",
   "execution_count": null,
   "outputs": [],
   "source": [],
   "metadata": {
    "collapsed": false
   },
   "id": "5fea96162751b574"
  }
 ],
 "metadata": {
  "kernelspec": {
   "display_name": "Python 3",
   "language": "python",
   "name": "python3"
  },
  "language_info": {
   "codemirror_mode": {
    "name": "ipython",
    "version": 2
   },
   "file_extension": ".py",
   "mimetype": "text/x-python",
   "name": "python",
   "nbconvert_exporter": "python",
   "pygments_lexer": "ipython2",
   "version": "2.7.6"
  }
 },
 "nbformat": 4,
 "nbformat_minor": 5
}
