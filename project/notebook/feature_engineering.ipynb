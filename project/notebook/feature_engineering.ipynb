{
 "cells": [
  {
   "cell_type": "code",
   "execution_count": 5,
   "id": "initial_id",
   "metadata": {
    "collapsed": true,
    "ExecuteTime": {
     "end_time": "2025-08-21T21:35:41.749296Z",
     "start_time": "2025-08-21T21:35:41.731343Z"
    }
   },
   "outputs": [
    {
     "name": "stdout",
     "output_type": "stream",
     "text": [
      "\n",
      "MSFT_clean dataset shape: (501, 6)\n",
      "              open     high       low   close      volume symbol\n",
      "2023-08-21  317.93  322.770  317.0400  321.88  24039956.0   MSFT\n",
      "2023-08-22  325.50  326.075  321.4600  322.46  16102024.0   MSFT\n",
      "2023-08-23  323.82  329.200  323.4600  327.00  21166382.0   MSFT\n",
      "2023-08-24  332.85  332.980  319.9600  319.97  23281434.0   MSFT\n",
      "2023-08-25  321.47  325.360  318.8001  322.98  21684104.0   MSFT\n",
      "\n",
      "AAPL_clean dataset shape: (501, 6)\n",
      "               open     high      low   close      volume symbol\n",
      "2023-08-21  175.070  176.130  173.735  175.84  46311879.0   AAPL\n",
      "2023-08-22  177.060  177.680  176.250  177.23  42084245.0   AAPL\n",
      "2023-08-23  178.520  181.550  178.325  181.12  52722752.0   AAPL\n",
      "2023-08-24  180.674  181.104  176.010  176.38  54945798.0   AAPL\n",
      "2023-08-25  177.380  179.150  175.820  178.61  51449594.0   AAPL\n",
      "\n",
      "SPY_clean dataset shape: (501, 6)\n",
      "              open    high      low   close       volume symbol\n",
      "2023-08-21  437.55  440.11  435.320  439.34   68718957.0    SPY\n",
      "2023-08-22  441.18  441.18  437.570  438.15   65062861.0    SPY\n",
      "2023-08-23  439.25  443.67  439.100  443.03   68441021.0    SPY\n",
      "2023-08-24  444.69  445.22  436.855  436.89   88517272.0    SPY\n",
      "2023-08-25  438.68  441.30  435.000  439.97  102325103.0    SPY\n"
     ]
    }
   ],
   "source": [
    "import pandas as pd\n",
    "import matplotlib.pyplot as plt\n",
    "import seaborn as sns\n",
    "\n",
    "files = [\"MSFT_clean.csv\", \"AAPL_clean.csv\", \"SPY_clean.csv\"]\n",
    "dfs = {\n",
    "    name.replace(\".csv\", \"\"): pd.read_csv(\n",
    "        f\"../data/processed/{name}\", index_col=0, parse_dates=True\n",
    "    )\n",
    "    for name in files\n",
    "}\n",
    "\n",
    "for name, df in dfs.items():\n",
    "    print(f\"\\n{name} dataset shape: {df.shape}\")\n",
    "    print(df.head())"
   ]
  },
  {
   "cell_type": "code",
   "execution_count": 6,
   "outputs": [
    {
     "name": "stdout",
     "output_type": "stream",
     "text": [
      "\n",
      "MSFT_clean with new features:\n",
      "             close  volatility_10d  price_volume_ratio  momentum_10d\n",
      "2023-08-21  321.88             NaN            0.000013           NaN\n",
      "2023-08-22  322.46             NaN            0.000020           NaN\n",
      "2023-08-23  327.00             NaN            0.000015           NaN\n",
      "2023-08-24  319.97             NaN            0.000014           NaN\n",
      "2023-08-25  322.98             NaN            0.000015           NaN\n",
      "2023-08-28  323.70             NaN            0.000022           NaN\n",
      "2023-08-29  328.41             NaN            0.000017           NaN\n",
      "2023-08-30  328.79             NaN            0.000022           NaN\n",
      "2023-08-31  327.76             NaN            0.000012           NaN\n",
      "2023-09-01  328.66        3.299890            0.000022           NaN\n",
      "2023-09-05  333.55        3.999930            0.000018      0.036256\n",
      "2023-09-06  332.88        4.230900            0.000019      0.032314\n",
      "2023-09-07  329.91        4.302099            0.000018      0.008899\n",
      "2023-09-08  334.27        3.810087            0.000017      0.044692\n",
      "2023-09-11  337.94        4.072008            0.000020      0.046319\n",
      "\n",
      "AAPL_clean with new features:\n",
      "             close  volatility_10d  price_volume_ratio  momentum_10d\n",
      "2023-08-21  175.84             NaN            0.000004           NaN\n",
      "2023-08-22  177.23             NaN            0.000004           NaN\n",
      "2023-08-23  181.12             NaN            0.000003           NaN\n",
      "2023-08-24  176.38             NaN            0.000003           NaN\n",
      "2023-08-25  178.61             NaN            0.000003           NaN\n",
      "2023-08-28  180.19             NaN            0.000004           NaN\n",
      "2023-08-29  184.12             NaN            0.000003           NaN\n",
      "2023-08-30  187.65             NaN            0.000003           NaN\n",
      "2023-08-31  187.87             NaN            0.000003           NaN\n",
      "2023-09-01  189.46        5.100292            0.000004           NaN\n",
      "2023-09-05  189.70        5.169273            0.000004      0.078822\n",
      "2023-09-06  182.91        4.729746            0.000002      0.032049\n",
      "2023-09-07  177.56        5.075316            0.000002     -0.019655\n",
      "2023-09-08  178.18        4.822533            0.000003      0.010205\n",
      "2023-09-11  179.36        4.741017            0.000003      0.004199\n",
      "\n",
      "SPY_clean with new features:\n",
      "             close  volatility_10d  price_volume_ratio  momentum_10d\n",
      "2023-08-21  439.34             NaN            0.000006           NaN\n",
      "2023-08-22  438.15             NaN            0.000007           NaN\n",
      "2023-08-23  443.03             NaN            0.000006           NaN\n",
      "2023-08-24  436.89             NaN            0.000005           NaN\n",
      "2023-08-25  439.97             NaN            0.000004           NaN\n",
      "2023-08-28  442.76             NaN            0.000007           NaN\n",
      "2023-08-29  449.16             NaN            0.000005           NaN\n",
      "2023-08-30  451.01             NaN            0.000007           NaN\n",
      "2023-08-31  450.35             NaN            0.000007           NaN\n",
      "2023-09-01  451.19        5.702355            0.000008           NaN\n",
      "2023-09-05  449.24        5.626620            0.000008      0.022534\n",
      "2023-09-06  446.22        5.056993            0.000006      0.018418\n",
      "2023-09-07  444.85        4.970965            0.000006      0.004108\n",
      "2023-09-08  445.52        3.791136            0.000007      0.019753\n",
      "2023-09-11  448.45        2.874931            0.000007      0.019274\n"
     ]
    }
   ],
   "source": [
    "# 1. Rolling 10-day volatility of closing price\n",
    "for name, df in dfs.items():\n",
    "    df[\"volatility_10d\"] = df[\"close\"].rolling(window=10).std()\n",
    "\n",
    "# 2. Price-to-Volume Ratio\n",
    "for name, df in dfs.items():\n",
    "    df[\"price_volume_ratio\"] = df[\"close\"] / df[\"volume\"]\n",
    "\n",
    "# 3. Momentum Indicator (10-day)\n",
    "for name, df in dfs.items():\n",
    "    df[\"momentum_10d\"] = (df[\"close\"] - df[\"close\"].shift(10)) / df[\"close\"].shift(10)\n",
    "\n",
    "# Preview\n",
    "for name, df in dfs.items():\n",
    "    print(f\"\\n{name} with new features:\")\n",
    "    print(df[[\"close\", \"volatility_10d\", \"price_volume_ratio\", \"momentum_10d\"]].head(15))\n"
   ],
   "metadata": {
    "collapsed": false,
    "ExecuteTime": {
     "end_time": "2025-08-21T21:35:42.326331Z",
     "start_time": "2025-08-21T21:35:42.314222Z"
    }
   },
   "id": "df8a81cc465b3ec4"
  },
  {
   "cell_type": "markdown",
   "source": [
    "### Engineered Features\n",
    "\n",
    "1. **Volatility (10-day)**  \n",
    "   Rolling standard deviation of closing prices.  \n",
    "   - Captures short-term uncertainty and market risk.  \n",
    "\n",
    "2. **Price-to-Volume Ratio**  \n",
    "   Ratio of closing price to trading volume.  \n",
    "   - Reflects how much price movement occurs relative to trading activity.  \n",
    "   - Low values may indicate high liquidity, while high values may suggest thin trading.  \n",
    "\n",
    "3. **Momentum (10-day)**  \n",
    "   Relative change in closing price compared to 10 days ago.  \n",
    "   - Captures recent performance trends.  \n"
   ],
   "metadata": {
    "collapsed": false
   },
   "id": "ca041a48683d855e"
  }
 ],
 "metadata": {
  "kernelspec": {
   "display_name": "Python 3",
   "language": "python",
   "name": "python3"
  },
  "language_info": {
   "codemirror_mode": {
    "name": "ipython",
    "version": 2
   },
   "file_extension": ".py",
   "mimetype": "text/x-python",
   "name": "python",
   "nbconvert_exporter": "python",
   "pygments_lexer": "ipython2",
   "version": "2.7.6"
  }
 },
 "nbformat": 4,
 "nbformat_minor": 5
}
