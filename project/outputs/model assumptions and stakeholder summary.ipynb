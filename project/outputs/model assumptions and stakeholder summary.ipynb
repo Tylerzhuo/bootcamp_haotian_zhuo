{
 "cells": [
  {
   "cell_type": "markdown",
   "source": [
    "# Model Assumptions & Stakeholder Summary\n",
    "\n",
    "## Plain-Language Summary\n",
    "- We modeled MSFT and AAPL returns as functions of the market (SPY).  \n",
    "- Linear regression provides a straightforward link between stock and market movements.  \n",
    "- Sensitivity tests (nonlinear fits, residual distribution assumptions) show that results are mostly robust, but uncertainty increases when relaxing Gaussian assumptions.  \n",
    "- Key takeaway: MSFT’s market relationship is stable and predictable; AAPL shows more idiosyncratic risk.  \n",
    "\n",
    "---\n",
    "\n",
    "## Key Takeaway Charts\n",
    "1. **Residual Dot Plots (MSFT vs AAPL):**  \n",
    "   - MSFT residuals are tightly clustered around zero → stable model fit.  \n",
    "   - AAPL residuals are wider and spikier → greater idiosyncratic risk.  \n",
    "\n",
    "2. **Scenario Comparison (Linear vs Polynomial, MSFT):**  \n",
    "   - Polynomial regression did not materially improve predictive accuracy.  \n",
    "   - Simpler linear model is sufficient → complexity does not change conclusions.  \n",
    "\n",
    "3. **AAPL Residual Mean: Gaussian vs Bootstrap CI:**  \n",
    "   - Gaussian CI is narrower, suggesting high confidence in zero bias.  \n",
    "   - Bootstrap CI is wider, highlighting uncertainty when normality is not assumed.  \n",
    "   - Takeaway: Conclusions about model fairness/bias depend on assumption choice.  \n",
    "\n",
    "---\n",
    "\n",
    "## Decision Framing Statements\n",
    "- **For MSFT:** The stock’s risk-return relationship is well captured by a linear market model. Decisions can rely on stable estimates without needing complex methods.  \n",
    "- **For AAPL:** Risk assessments should account for heavier tails and potential bias under different error assumptions. Stakeholders should be cautious when interpreting AAPL’s stability.  \n",
    "- **Overall:**  \n",
    "  - If stability and interpretability are the priority → linear Gaussian models are adequate.  \n",
    "  - If robustness to tail events is critical → bootstrap intervals and subgroup analysis are necessary.  \n",
    "  - Model choice reflects the trade-off between **simplicity & confidence** vs **robustness & caution**.  \n"
   ],
   "metadata": {
    "collapsed": false
   },
   "id": "aac08c300f909b47"
  },
  {
   "cell_type": "code",
   "execution_count": null,
   "outputs": [],
   "source": [],
   "metadata": {
    "collapsed": false
   },
   "id": "7795b36571ef9396"
  }
 ],
 "metadata": {
  "kernelspec": {
   "display_name": "Python 3",
   "language": "python",
   "name": "python3"
  },
  "language_info": {
   "codemirror_mode": {
    "name": "ipython",
    "version": 2
   },
   "file_extension": ".py",
   "mimetype": "text/x-python",
   "name": "python",
   "nbconvert_exporter": "python",
   "pygments_lexer": "ipython2",
   "version": "2.7.6"
  }
 },
 "nbformat": 4,
 "nbformat_minor": 5
}
