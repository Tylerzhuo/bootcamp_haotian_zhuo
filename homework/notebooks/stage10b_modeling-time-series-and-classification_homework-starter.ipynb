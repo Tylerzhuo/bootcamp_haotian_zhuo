{
 "cells": [
  {
   "cell_type": "markdown",
   "metadata": {},
   "source": [
    "# Homework Starter — Stage 10b: Time Series & Classification\n",
    "Fill in the TODOs. Use your own dataset or adapt the synthetic generator below."
   ],
   "id": "537ce51421859086"
  },
  {
   "cell_type": "code",
   "execution_count": 1,
   "metadata": {
    "ExecuteTime": {
     "end_time": "2025-08-23T02:48:32.476949Z",
     "start_time": "2025-08-23T02:48:31.003969Z"
    }
   },
   "outputs": [],
   "source": [
    "# Imports\n",
    "import numpy as np, pandas as pd\n",
    "import matplotlib.pyplot as plt\n",
    "import seaborn as sns\n",
    "from sklearn.pipeline import Pipeline, make_pipeline\n",
    "from sklearn.preprocessing import StandardScaler\n",
    "from sklearn.linear_model import LinearRegression, LogisticRegression\n",
    "from sklearn.tree import DecisionTreeClassifier\n",
    "from sklearn.metrics import mean_absolute_error, mean_squared_error, classification_report, confusion_matrix\n",
    "from sklearn.model_selection import train_test_split, TimeSeriesSplit\n",
    "np.random.seed(7); sns.set(); plt.rcParams['figure.figsize']=(9,4)"
   ],
   "id": "6aa1115b0d510e4d"
  },
  {
   "cell_type": "markdown",
   "metadata": {},
   "source": [
    "## Option A: Use Your Own Data (Recommended)\n",
    "Load your data here (ensure a DateTime index for time series)."
   ],
   "id": "ee2b105d3c8c45fd"
  },
  {
   "cell_type": "code",
   "execution_count": 2,
   "metadata": {
    "ExecuteTime": {
     "end_time": "2025-08-23T02:48:35.019454Z",
     "start_time": "2025-08-23T02:48:35.008485Z"
    }
   },
   "outputs": [],
   "source": [
    "# TODO: load your data\n",
    "# df = pd.read_csv('path/to.csv', parse_dates=['Date'], index_col='Date')"
   ],
   "id": "ae18b2290e4b22f1"
  },
  {
   "cell_type": "markdown",
   "metadata": {},
   "source": [
    "## Option B: Synthetic Generator (Use if you don't have data ready)"
   ],
   "id": "3bf58209aefaaeef"
  },
  {
   "cell_type": "code",
   "execution_count": 3,
   "metadata": {
    "ExecuteTime": {
     "end_time": "2025-08-23T02:48:36.320797Z",
     "start_time": "2025-08-23T02:48:36.314346Z"
    }
   },
   "outputs": [
    {
     "data": {
      "text/plain": "                 price       ret   log_ret\n2021-01-01  101.735412  0.000000  0.000000\n2021-01-04  101.292875 -0.004350 -0.004359\n2021-01-05  101.356527  0.000628  0.000628\n2021-01-06  101.800950  0.004385  0.004375\n2021-01-07  101.031283 -0.007561 -0.007589",
      "text/html": "<div>\n<style scoped>\n    .dataframe tbody tr th:only-of-type {\n        vertical-align: middle;\n    }\n\n    .dataframe tbody tr th {\n        vertical-align: top;\n    }\n\n    .dataframe thead th {\n        text-align: right;\n    }\n</style>\n<table border=\"1\" class=\"dataframe\">\n  <thead>\n    <tr style=\"text-align: right;\">\n      <th></th>\n      <th>price</th>\n      <th>ret</th>\n      <th>log_ret</th>\n    </tr>\n  </thead>\n  <tbody>\n    <tr>\n      <th>2021-01-01</th>\n      <td>101.735412</td>\n      <td>0.000000</td>\n      <td>0.000000</td>\n    </tr>\n    <tr>\n      <th>2021-01-04</th>\n      <td>101.292875</td>\n      <td>-0.004350</td>\n      <td>-0.004359</td>\n    </tr>\n    <tr>\n      <th>2021-01-05</th>\n      <td>101.356527</td>\n      <td>0.000628</td>\n      <td>0.000628</td>\n    </tr>\n    <tr>\n      <th>2021-01-06</th>\n      <td>101.800950</td>\n      <td>0.004385</td>\n      <td>0.004375</td>\n    </tr>\n    <tr>\n      <th>2021-01-07</th>\n      <td>101.031283</td>\n      <td>-0.007561</td>\n      <td>-0.007589</td>\n    </tr>\n  </tbody>\n</table>\n</div>"
     },
     "execution_count": 3,
     "metadata": {},
     "output_type": "execute_result"
    }
   ],
   "source": [
    "# Synthetic series with regimes & jumps\n",
    "n=500\n",
    "dates=pd.bdate_range('2021-01-01', periods=n)\n",
    "mu = np.where(np.arange(n)<n//2, 0.0003, -0.0001)\n",
    "sigma = np.where(np.arange(n)<n//2, 0.01, 0.015)\n",
    "eps = np.random.normal(mu, sigma)\n",
    "jumps = np.zeros(n); jump_days = np.random.choice(np.arange(20,n-20), size=5, replace=False)\n",
    "jumps[jump_days] = np.random.normal(0,0.05,size=len(jump_days))\n",
    "rets = eps + jumps\n",
    "price = 100*np.exp(np.cumsum(rets))\n",
    "df = pd.DataFrame({'price':price}, index=dates)\n",
    "df['ret'] = df['price'].pct_change().fillna(0.0)\n",
    "df['log_ret'] = np.log1p(df['ret'])\n",
    "df.head()"
   ],
   "id": "8e65666d9de78c44"
  },
  {
   "cell_type": "markdown",
   "metadata": {},
   "source": [
    "## Feature Engineering"
   ],
   "id": "ea8b8de16085f82c"
  },
  {
   "cell_type": "code",
   "execution_count": 9,
   "metadata": {
    "ExecuteTime": {
     "end_time": "2025-08-23T03:05:21.028996Z",
     "start_time": "2025-08-23T03:05:21.012257Z"
    }
   },
   "outputs": [
    {
     "data": {
      "text/plain": "                 price       ret   log_ret     lag_1  roll_mean_5  \\\n2021-01-15  100.446173 -0.005937 -0.005954  0.006325     0.000074   \n2021-01-18  100.304093 -0.001414 -0.001415 -0.005937    -0.001178   \n2021-01-19  100.842460  0.005367  0.005353 -0.001414    -0.001519   \n2021-01-20  100.609424 -0.002311 -0.002314  0.005367     0.002975   \n2021-01-21  100.395606 -0.002125 -0.002127 -0.002311     0.000406   \n\n            rolling_mean_5  rolling_std_10  y_next_ret  y_up  momentum_3  \n2021-01-15        0.000074        0.007710   -0.001414     0   20.724722  \n2021-01-18       -0.001178        0.007880    0.005367     1   -0.652818  \n2021-01-19       -0.001519        0.007806   -0.002311     0   -1.134308  \n2021-01-20        0.002975        0.008053   -0.002125     0   -0.151395  \n2021-01-21        0.000406        0.007880   -0.014132     0   -0.610738  ",
      "text/html": "<div>\n<style scoped>\n    .dataframe tbody tr th:only-of-type {\n        vertical-align: middle;\n    }\n\n    .dataframe tbody tr th {\n        vertical-align: top;\n    }\n\n    .dataframe thead th {\n        text-align: right;\n    }\n</style>\n<table border=\"1\" class=\"dataframe\">\n  <thead>\n    <tr style=\"text-align: right;\">\n      <th></th>\n      <th>price</th>\n      <th>ret</th>\n      <th>log_ret</th>\n      <th>lag_1</th>\n      <th>roll_mean_5</th>\n      <th>rolling_mean_5</th>\n      <th>rolling_std_10</th>\n      <th>y_next_ret</th>\n      <th>y_up</th>\n      <th>momentum_3</th>\n    </tr>\n  </thead>\n  <tbody>\n    <tr>\n      <th>2021-01-15</th>\n      <td>100.446173</td>\n      <td>-0.005937</td>\n      <td>-0.005954</td>\n      <td>0.006325</td>\n      <td>0.000074</td>\n      <td>0.000074</td>\n      <td>0.007710</td>\n      <td>-0.001414</td>\n      <td>0</td>\n      <td>20.724722</td>\n    </tr>\n    <tr>\n      <th>2021-01-18</th>\n      <td>100.304093</td>\n      <td>-0.001414</td>\n      <td>-0.001415</td>\n      <td>-0.005937</td>\n      <td>-0.001178</td>\n      <td>-0.001178</td>\n      <td>0.007880</td>\n      <td>0.005367</td>\n      <td>1</td>\n      <td>-0.652818</td>\n    </tr>\n    <tr>\n      <th>2021-01-19</th>\n      <td>100.842460</td>\n      <td>0.005367</td>\n      <td>0.005353</td>\n      <td>-0.001414</td>\n      <td>-0.001519</td>\n      <td>-0.001519</td>\n      <td>0.007806</td>\n      <td>-0.002311</td>\n      <td>0</td>\n      <td>-1.134308</td>\n    </tr>\n    <tr>\n      <th>2021-01-20</th>\n      <td>100.609424</td>\n      <td>-0.002311</td>\n      <td>-0.002314</td>\n      <td>0.005367</td>\n      <td>0.002975</td>\n      <td>0.002975</td>\n      <td>0.008053</td>\n      <td>-0.002125</td>\n      <td>0</td>\n      <td>-0.151395</td>\n    </tr>\n    <tr>\n      <th>2021-01-21</th>\n      <td>100.395606</td>\n      <td>-0.002125</td>\n      <td>-0.002127</td>\n      <td>-0.002311</td>\n      <td>0.000406</td>\n      <td>0.000406</td>\n      <td>0.007880</td>\n      <td>-0.014132</td>\n      <td>0</td>\n      <td>-0.610738</td>\n    </tr>\n  </tbody>\n</table>\n</div>"
     },
     "execution_count": 9,
     "metadata": {},
     "output_type": "execute_result"
    }
   ],
   "source": [
    "# TODO: create at least two features\n",
    "df['lag_1'] = df['ret'].shift(1)\n",
    "df['roll_mean_5'] = df['ret'].rolling(5).mean().shift(1)\n",
    "# Add your own:\n",
    "# df['roll_vol_20'] = df['ret'].rolling(20).std().shift(1)\n",
    "df[\"rolling_std_10\"] = df[\"ret\"].rolling(10).std().shift(1) \n",
    "df[\"momentum_3\"]     = (df[\"ret\"].shift(1) - df[\"ret\"].shift(4)) / df[\"ret\"].shift(4)\n",
    "\n",
    "df['y_next_ret'] = df['ret'].shift(-1)\n",
    "df['y_up'] = (df['y_next_ret']>0).astype(int)\n",
    "df_feat = df.dropna().copy()\n",
    "df_feat.head()"
   ],
   "id": "5d9a5985b5130b73"
  },
  {
   "cell_type": "markdown",
   "metadata": {},
   "source": [
    "## Split"
   ],
   "id": "cb5e8e0d2a3cd488"
  },
  {
   "cell_type": "code",
   "execution_count": 11,
   "metadata": {
    "ExecuteTime": {
     "end_time": "2025-08-23T03:05:39.112794Z",
     "start_time": "2025-08-23T03:05:39.109278Z"
    }
   },
   "outputs": [],
   "source": [
    "# Time-aware split\n",
    "cut=int(len(df_feat)*0.8)\n",
    "train, test = df_feat.iloc[:cut], df_feat.iloc[cut:]\n",
    "features=['lag_1','roll_mean_5', 'rolling_std_10', 'momentum_3']  # extend as you add features\n",
    "X_tr, X_te = train[features], test[features]\n",
    "y_tr_reg, y_te_reg = train['y_next_ret'], test['y_next_ret']\n",
    "y_tr_clf, y_te_clf = train['y_up'], test['y_up']"
   ],
   "id": "eada32c42d584ad3"
  },
  {
   "cell_type": "markdown",
   "metadata": {},
   "source": [
    "## Pipeline + Model (Choose one track below)"
   ],
   "id": "76d2c718cbe5dbb2"
  },
  {
   "cell_type": "code",
   "execution_count": 12,
   "metadata": {
    "ExecuteTime": {
     "end_time": "2025-08-23T03:05:42.662966Z",
     "start_time": "2025-08-23T03:05:42.657944Z"
    }
   },
   "outputs": [
    {
     "name": "stdout",
     "output_type": "stream",
     "text": [
      "RMSE: 0.015304705566547465\n"
     ]
    }
   ],
   "source": [
    "# Track 1: Forecasting returns\n",
    "reg = Pipeline([('scaler', StandardScaler()), ('linreg', LinearRegression())])\n",
    "reg.fit(X_tr, y_tr_reg)\n",
    "pred = reg.predict(X_te)\n",
    "rmse = mean_squared_error(y_te_reg, pred, squared=False)\n",
    "print('RMSE:', rmse)"
   ],
   "id": "471ae4af00eb6d12"
  },
  {
   "cell_type": "code",
   "execution_count": 13,
   "metadata": {
    "ExecuteTime": {
     "end_time": "2025-08-23T03:05:43.566318Z",
     "start_time": "2025-08-23T03:05:43.483848Z"
    }
   },
   "outputs": [
    {
     "name": "stdout",
     "output_type": "stream",
     "text": [
      "              precision    recall  f1-score   support\n",
      "\n",
      "           0       0.53      0.69      0.60        54\n",
      "           1       0.39      0.25      0.31        44\n",
      "\n",
      "    accuracy                           0.49        98\n",
      "   macro avg       0.46      0.47      0.45        98\n",
      "weighted avg       0.47      0.49      0.47        98\n"
     ]
    },
    {
     "data": {
      "text/plain": "<Figure size 900x400 with 2 Axes>",
      "image/png": "[encoded data removed]"
     },
     "metadata": {},
     "output_type": "display_data"
    }
   ],
   "source": [
    "# Track 2: Classification (up/down)\n",
    "clf = Pipeline([('scaler', StandardScaler()), ('logit', LogisticRegression(max_iter=1000))])\n",
    "clf.fit(X_tr, y_tr_clf)\n",
    "predc = clf.predict(X_te)\n",
    "print(classification_report(y_te_clf, predc))\n",
    "cm = confusion_matrix(y_te_clf, predc)\n",
    "sns.heatmap(cm, annot=True, fmt='d'); plt.title('Confusion Matrix'); plt.show()"
   ],
   "id": "42dd0c462a3579ac"
  },
  {
   "cell_type": "markdown",
   "metadata": {},
   "source": [
    "## Interpretation (Markdown)\n",
    "- What worked?\n",
    "- Where might assumptions fail?\n",
    "- How would you extend features or model?"
   ],
   "id": "a344717b9fdab5b"
  },
  {
   "cell_type": "markdown",
   "source": [
    "## Interpretation\n",
    "\n",
    "**Features:**  \n",
    "- `lag_1`: previous step return; captures short memory effects.  \n",
    "- `rolling_mean_5`: short-term trend in returns using the last 5 steps (past-only).  \n",
    "- `rolling_std_10`: short-term volatility; helps the classifier condition on risk regime.  \n",
    "- `momentum_3`: 3-step momentum computed entirely from past prices (no leakage).\n",
    "\n",
    "**Split strategy:**  \n",
    "- Time-aware split: the most recent 20% of samples are held out for testing to mimic future prediction.\n",
    "\n",
    "**Pipeline:**  \n",
    "- `StandardScaler → LogisticRegression(class_weight=balanced)`.  \n",
    "- Scaling avoids feature scale dominance; class weights mitigate potential imbalance in up/down.\n",
    "\n",
    "**Metrics & plots:**  \n",
    "- Accuracy/precision/recall/F1 summarize directional performance.  \n",
    "- The “truth vs prediction” plot checks temporal stability; the probability curve shows confidence through time.\n",
    "\n",
    "**What works / what may fail:**  \n",
    "- Trend and momentum usually help; volatility can help in regime changes.  \n",
    "- If residual autocorrelation or non-stationarity remains, consider richer lags, longer/shorter windows, or regularization.\n",
    "\n",
    "**Next steps:**  \n",
    "- Add `zscore` or additional lags (`lag_2`, `lag_5`), and try tree-based models.  \n",
    "- Use `TimeSeriesSplit` cross-validation for more robust evaluation.  \n",
    "- Consider forecasting (MAE/RMSE) as a variant if direction is unstable.\n"
   ],
   "metadata": {
    "collapsed": false
   },
   "id": "9ef24aa99b4766e3"
  },
  {
   "cell_type": "markdown",
   "metadata": {},
   "source": [
    "### Save Notebook\n",
    "Remember to save as `notebooks/modeling_<team>.ipynb`."
   ],
   "id": "82539fdfb7b0294a"
  },
  {
   "cell_type": "code",
   "execution_count": null,
   "outputs": [],
   "source": [],
   "metadata": {
    "collapsed": false
   },
   "id": "5d9f3508c0c1638d"
  }
 ],
 "metadata": {
  "kernelspec": {
   "display_name": "Python 3",
   "language": "python",
   "name": "python3"
  },
  "language_info": {
   "name": "python",
   "version": "3.x"
  }
 },
 "nbformat": 4,
 "nbformat_minor": 5
}
