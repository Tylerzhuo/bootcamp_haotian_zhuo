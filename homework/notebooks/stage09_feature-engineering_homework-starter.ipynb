{
 "cells": [
  {
   "cell_type": "markdown",
   "metadata": {},
   "source": [
    "# Stage 09 — Homework Starter Notebook\n",
    "\n",
    "In the lecture, we learned how to create engineered features. Now it’s your turn to apply those ideas to your own project data."
   ],
   "id": "527aee361e40e169"
  },
  {
   "cell_type": "code",
   "execution_count": 1,
   "metadata": {
    "ExecuteTime": {
     "end_time": "2025-08-21T02:46:17.268688Z",
     "start_time": "2025-08-21T02:46:16.978643Z"
    }
   },
   "outputs": [
    {
     "data": {
      "text/plain": "   income  monthly_spend  credit_score\n0   86460           3129           661\n1   66002           1191           668\n2   74681           1237           734\n3   93613           2581           712\n4   88013           1296           712",
      "text/html": "<div>\n<style scoped>\n    .dataframe tbody tr th:only-of-type {\n        vertical-align: middle;\n    }\n\n    .dataframe tbody tr th {\n        vertical-align: top;\n    }\n\n    .dataframe thead th {\n        text-align: right;\n    }\n</style>\n<table border=\"1\" class=\"dataframe\">\n  <thead>\n    <tr style=\"text-align: right;\">\n      <th></th>\n      <th>income</th>\n      <th>monthly_spend</th>\n      <th>credit_score</th>\n    </tr>\n  </thead>\n  <tbody>\n    <tr>\n      <th>0</th>\n      <td>86460</td>\n      <td>3129</td>\n      <td>661</td>\n    </tr>\n    <tr>\n      <th>1</th>\n      <td>66002</td>\n      <td>1191</td>\n      <td>668</td>\n    </tr>\n    <tr>\n      <th>2</th>\n      <td>74681</td>\n      <td>1237</td>\n      <td>734</td>\n    </tr>\n    <tr>\n      <th>3</th>\n      <td>93613</td>\n      <td>2581</td>\n      <td>712</td>\n    </tr>\n    <tr>\n      <th>4</th>\n      <td>88013</td>\n      <td>1296</td>\n      <td>712</td>\n    </tr>\n  </tbody>\n</table>\n</div>"
     },
     "execution_count": 1,
     "metadata": {},
     "output_type": "execute_result"
    }
   ],
   "source": [
    "import pandas as pd\n",
    "import numpy as np\n",
    "\n",
    "# Example synthetic data (replace with your project dataset)\n",
    "np.random.seed(0)\n",
    "n = 100\n",
    "df = pd.DataFrame({\n",
    "    'income': np.random.normal(60000, 15000, n).astype(int),\n",
    "    'monthly_spend': np.random.normal(2000, 600, n).astype(int),\n",
    "    'credit_score': np.random.normal(680, 50, n).astype(int)\n",
    "})\n",
    "df.head()"
   ],
   "id": "5c5c22a13b8c8ff8"
  },
  {
   "cell_type": "markdown",
   "metadata": {},
   "source": [
    "## TODO: Implement at least 2 engineered features here"
   ],
   "id": "bfda68bb29403bb8"
  },
  {
   "cell_type": "code",
   "execution_count": 2,
   "metadata": {
    "ExecuteTime": {
     "end_time": "2025-08-21T02:51:42.966975Z",
     "start_time": "2025-08-21T02:51:42.959828Z"
    }
   },
   "outputs": [],
   "source": [
    "# Example template:\n",
    "df['spend_income_ratio'] = df['monthly_spend'] / df['income']  # TODO: Your feature\n",
    "# Add rationale in markdown below\n",
    "\n",
    "# Feature 1: Monthly Savings Estimate\n",
    "df['monthly_savings'] = df['income'] / 12 - df['monthly_spend']"
   ],
   "id": "ba4d369b333aa2f0"
  },
  {
   "cell_type": "markdown",
   "metadata": {},
   "source": [
    "### Rationale for Feature 1\n",
    "**Monthly Savings Estimate (`monthly_savings`)**  \n",
    "   This derived feature estimates how much a person saves monthly (income/12 - monthly_spend).  \n",
    "   It helps to assess financial health and saving capacity."
   ],
   "id": "54290166e50e044"
  },
  {
   "cell_type": "code",
   "execution_count": null,
   "metadata": {},
   "outputs": [],
   "source": [
    "# TODO: Add another feature\n",
    "# Example: df['rolling_spend_mean'] = df['monthly_spend'].rolling(3).mean()\n",
    "\n",
    "# Feature 2: Credit-adjusted spend\n",
    "df['rolling_credit_adjusted_spend'] = (\n",
    "    df['monthly_spend'].rolling(3).mean() / df['credit_score']\n",
    ")"
   ],
   "id": "326c608f8f6226a1"
  },
  {
   "cell_type": "markdown",
   "metadata": {},
   "source": [
    "### Rationale for Feature 2\n",
    "**Rolling Credit-Adjusted Spend Ratio (`rolling_credit_adjusted_spend`)**  \n",
    "   This feature computes the 3-month rolling average of spending divided by credit score.  \n",
    "   - It captures recent spending behavior while adjusting for creditworthiness.  \n",
    "   - A higher ratio may indicate high spending relative to credit stability.  \n",
    "   - Useful for linking financial behavior with risk assessment.\n"
   ],
   "id": "e40e0b6ce05dc87b"
  }
 ],
 "metadata": {
  "kernelspec": {
   "display_name": "Python 3",
   "language": "python",
   "name": "python3"
  },
  "language_info": {
   "name": "python",
   "version": "3.10"
  }
 },
 "nbformat": 4,
 "nbformat_minor": 5
}
