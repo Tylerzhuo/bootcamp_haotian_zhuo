{
 "cells": [
  {
   "cell_type": "code",
   "execution_count": 26,
   "id": "initial_id",
   "metadata": {
    "collapsed": true,
    "ExecuteTime": {
     "end_time": "2025-08-15T13:19:21.865138Z",
     "start_time": "2025-08-15T13:19:21.861561Z"
    }
   },
   "outputs": [],
   "source": [
    "import numpy as np\n",
    "import pandas as pd\n",
    "import matplotlib.pyplot as plt"
   ]
  },
  {
   "cell_type": "markdown",
   "source": [
    "## 1. Numpy Operations"
   ],
   "metadata": {
    "collapsed": false
   },
   "id": "1cbef992353cd087"
  },
  {
   "cell_type": "markdown",
   "source": [
    "### 1.1 Create an array and perform elementwise operations"
   ],
   "metadata": {
    "collapsed": false
   },
   "id": "6e069d71daf50724"
  },
  {
   "cell_type": "code",
   "execution_count": 2,
   "outputs": [
    {
     "name": "stdout",
     "output_type": "stream",
     "text": [
      "add:  [5 7 9]\n",
      "subtract:  [-3 -3 -3]\n",
      "multiply:  [ 4 10 18]\n",
      "divide  [0.25 0.4  0.5 ]\n"
     ]
    }
   ],
   "source": [
    "arr_1 = np.array([1, 2, 3])\n",
    "arr_2 = np.array([4, 5, 6])\n",
    "\n",
    "add_res = arr_1 + arr_2\n",
    "sub_res = arr_1 - arr_2\n",
    "mul_res = arr_1 * arr_2\n",
    "div_res = arr_1 / arr_2\n",
    "\n",
    "print(\"add: \", add_res)\n",
    "print(\"subtract: \", sub_res)\n",
    "print(\"multiply: \", mul_res)\n",
    "print(\"divide \", div_res)"
   ],
   "metadata": {
    "collapsed": false,
    "ExecuteTime": {
     "end_time": "2025-08-15T03:17:31.177774Z",
     "start_time": "2025-08-15T03:17:31.173580Z"
    }
   },
   "id": "df43bcf10c043634"
  },
  {
   "cell_type": "markdown",
   "source": [
    "### 1.2 Compare loop vs vectorized execution"
   ],
   "metadata": {
    "collapsed": false
   },
   "id": "d6389e25cbbb3185"
  },
  {
   "cell_type": "code",
   "execution_count": 3,
   "outputs": [
    {
     "name": "stdout",
     "output_type": "stream",
     "text": [
      "loop time is: 0.15s\n",
      "vectorized time is: 0.00s\n",
      "vectorized execution is 0.15s faster than loop.\n"
     ]
    }
   ],
   "source": [
    "import time\n",
    "large_arr_1 = np.random.rand(1000000)\n",
    "large_arr_2 = np.random.rand(1000000)\n",
    "\n",
    "# Loop\n",
    "result = np.empty(len(large_arr_1))\n",
    "start_time = time.time()\n",
    "for i in range(len(large_arr_1)):\n",
    "    result[i] = large_arr_1[i] + large_arr_2[i]\n",
    "loop_time = time.time() - start_time\n",
    "\n",
    "# Vectorized\n",
    "start_time_vec = time.time()\n",
    "result_vec = large_arr_1 + large_arr_2\n",
    "vec_time = time.time() - start_time_vec\n",
    "\n",
    "print(\"loop time is: %.2fs\" % loop_time)\n",
    "print(\"vectorized time is: %.2fs\" % vec_time)\n",
    "print(\"vectorized execution is %.2fs faster than loop.\" % (loop_time-vec_time))"
   ],
   "metadata": {
    "collapsed": false,
    "ExecuteTime": {
     "end_time": "2025-08-15T03:17:33.040745Z",
     "start_time": "2025-08-15T03:17:32.878884Z"
    }
   },
   "id": "12c6db5f8f584286"
  },
  {
   "cell_type": "markdown",
   "source": [
    "## 2. Dataset Loading"
   ],
   "metadata": {
    "collapsed": false
   },
   "id": "43f30723665ed74a"
  },
  {
   "cell_type": "markdown",
   "source": [
    "### 2.1 Load provided CSV using pandas"
   ],
   "metadata": {
    "collapsed": false
   },
   "id": "3c292db1d6d9966"
  },
  {
   "cell_type": "code",
   "execution_count": 40,
   "outputs": [
    {
     "data": {
      "text/plain": "  category  value       date\n0        A     10 2025-08-01\n1        B     15 2025-08-02\n2        A     12 2025-08-03\n3        B     18 2025-08-04\n4        C     25 2025-08-05\n5        C     30 2025-08-06\n6        A     11 2025-08-07\n7        B     14 2025-08-08\n8        C     28 2025-08-09\n9        A     13 2025-08-10",
      "text/html": "<div>\n<style scoped>\n    .dataframe tbody tr th:only-of-type {\n        vertical-align: middle;\n    }\n\n    .dataframe tbody tr th {\n        vertical-align: top;\n    }\n\n    .dataframe thead th {\n        text-align: right;\n    }\n</style>\n<table border=\"1\" class=\"dataframe\">\n  <thead>\n    <tr style=\"text-align: right;\">\n      <th></th>\n      <th>category</th>\n      <th>value</th>\n      <th>date</th>\n    </tr>\n  </thead>\n  <tbody>\n    <tr>\n      <th>0</th>\n      <td>A</td>\n      <td>10</td>\n      <td>2025-08-01</td>\n    </tr>\n    <tr>\n      <th>1</th>\n      <td>B</td>\n      <td>15</td>\n      <td>2025-08-02</td>\n    </tr>\n    <tr>\n      <th>2</th>\n      <td>A</td>\n      <td>12</td>\n      <td>2025-08-03</td>\n    </tr>\n    <tr>\n      <th>3</th>\n      <td>B</td>\n      <td>18</td>\n      <td>2025-08-04</td>\n    </tr>\n    <tr>\n      <th>4</th>\n      <td>C</td>\n      <td>25</td>\n      <td>2025-08-05</td>\n    </tr>\n    <tr>\n      <th>5</th>\n      <td>C</td>\n      <td>30</td>\n      <td>2025-08-06</td>\n    </tr>\n    <tr>\n      <th>6</th>\n      <td>A</td>\n      <td>11</td>\n      <td>2025-08-07</td>\n    </tr>\n    <tr>\n      <th>7</th>\n      <td>B</td>\n      <td>14</td>\n      <td>2025-08-08</td>\n    </tr>\n    <tr>\n      <th>8</th>\n      <td>C</td>\n      <td>28</td>\n      <td>2025-08-09</td>\n    </tr>\n    <tr>\n      <th>9</th>\n      <td>A</td>\n      <td>13</td>\n      <td>2025-08-10</td>\n    </tr>\n  </tbody>\n</table>\n</div>"
     },
     "execution_count": 40,
     "metadata": {},
     "output_type": "execute_result"
    }
   ],
   "source": [
    "data = pd.read_csv('../data/raw/starter_data.csv', parse_dates = ['date'])\n",
    "data"
   ],
   "metadata": {
    "collapsed": false,
    "ExecuteTime": {
     "end_time": "2025-08-15T13:28:18.026528Z",
     "start_time": "2025-08-15T13:28:18.017263Z"
    }
   },
   "id": "b53466bd15a33aa5"
  },
  {
   "cell_type": "markdown",
   "source": [
    "### 2.2 Inspect with .info() and .head()"
   ],
   "metadata": {
    "collapsed": false
   },
   "id": "e810c9a94236d578"
  },
  {
   "cell_type": "code",
   "execution_count": 41,
   "outputs": [
    {
     "name": "stdout",
     "output_type": "stream",
     "text": [
      "<class 'pandas.core.frame.DataFrame'>\n",
      "RangeIndex: 10 entries, 0 to 9\n",
      "Data columns (total 3 columns):\n",
      " #   Column    Non-Null Count  Dtype         \n",
      "---  ------    --------------  -----         \n",
      " 0   category  10 non-null     object        \n",
      " 1   value     10 non-null     int64         \n",
      " 2   date      10 non-null     datetime64[ns]\n",
      "dtypes: datetime64[ns](1), int64(1), object(1)\n",
      "memory usage: 372.0+ bytes\n"
     ]
    }
   ],
   "source": [
    "data.info()"
   ],
   "metadata": {
    "collapsed": false,
    "ExecuteTime": {
     "end_time": "2025-08-15T13:28:19.854970Z",
     "start_time": "2025-08-15T13:28:19.842529Z"
    }
   },
   "id": "38385b61b91fe130"
  },
  {
   "cell_type": "code",
   "execution_count": 42,
   "outputs": [
    {
     "data": {
      "text/plain": "  category  value       date\n0        A     10 2025-08-01\n1        B     15 2025-08-02\n2        A     12 2025-08-03\n3        B     18 2025-08-04\n4        C     25 2025-08-05",
      "text/html": "<div>\n<style scoped>\n    .dataframe tbody tr th:only-of-type {\n        vertical-align: middle;\n    }\n\n    .dataframe tbody tr th {\n        vertical-align: top;\n    }\n\n    .dataframe thead th {\n        text-align: right;\n    }\n</style>\n<table border=\"1\" class=\"dataframe\">\n  <thead>\n    <tr style=\"text-align: right;\">\n      <th></th>\n      <th>category</th>\n      <th>value</th>\n      <th>date</th>\n    </tr>\n  </thead>\n  <tbody>\n    <tr>\n      <th>0</th>\n      <td>A</td>\n      <td>10</td>\n      <td>2025-08-01</td>\n    </tr>\n    <tr>\n      <th>1</th>\n      <td>B</td>\n      <td>15</td>\n      <td>2025-08-02</td>\n    </tr>\n    <tr>\n      <th>2</th>\n      <td>A</td>\n      <td>12</td>\n      <td>2025-08-03</td>\n    </tr>\n    <tr>\n      <th>3</th>\n      <td>B</td>\n      <td>18</td>\n      <td>2025-08-04</td>\n    </tr>\n    <tr>\n      <th>4</th>\n      <td>C</td>\n      <td>25</td>\n      <td>2025-08-05</td>\n    </tr>\n  </tbody>\n</table>\n</div>"
     },
     "execution_count": 42,
     "metadata": {},
     "output_type": "execute_result"
    }
   ],
   "source": [
    "data.head()"
   ],
   "metadata": {
    "collapsed": false,
    "ExecuteTime": {
     "end_time": "2025-08-15T13:28:20.306502Z",
     "start_time": "2025-08-15T13:28:20.300743Z"
    }
   },
   "id": "698657adaedd51e1"
  },
  {
   "cell_type": "markdown",
   "source": [
    "## 3. Summary Statistics"
   ],
   "metadata": {
    "collapsed": false
   },
   "id": "f2bb3ee7f22e338f"
  },
  {
   "cell_type": "markdown",
   "source": [
    "### 3.1 calculate .describe() for numeric columns"
   ],
   "metadata": {
    "collapsed": false
   },
   "id": "daa7eadfaac7f185"
  },
  {
   "cell_type": "code",
   "execution_count": 43,
   "outputs": [
    {
     "data": {
      "text/plain": "count    10.000000\nmean     17.600000\nstd       7.381659\nmin      10.000000\n25%      12.250000\n50%      14.500000\n75%      23.250000\nmax      30.000000\nName: value, dtype: float64"
     },
     "execution_count": 43,
     "metadata": {},
     "output_type": "execute_result"
    }
   ],
   "source": [
    "data.value.describe()"
   ],
   "metadata": {
    "collapsed": false,
    "ExecuteTime": {
     "end_time": "2025-08-15T13:28:22.269864Z",
     "start_time": "2025-08-15T13:28:22.264803Z"
    }
   },
   "id": "60ff9956d8170dc8"
  },
  {
   "cell_type": "markdown",
   "source": [
    "### 3.2 Perform .groupby() aggregation by category"
   ],
   "metadata": {
    "collapsed": false
   },
   "id": "ef5dd6b6eff9bf05"
  },
  {
   "cell_type": "code",
   "execution_count": 44,
   "outputs": [
    {
     "data": {
      "text/plain": "         value           \n           sum       mean\ncategory                 \nA           46  11.500000\nB           47  15.666667\nC           83  27.666667",
      "text/html": "<div>\n<style scoped>\n    .dataframe tbody tr th:only-of-type {\n        vertical-align: middle;\n    }\n\n    .dataframe tbody tr th {\n        vertical-align: top;\n    }\n\n    .dataframe thead tr th {\n        text-align: left;\n    }\n\n    .dataframe thead tr:last-of-type th {\n        text-align: right;\n    }\n</style>\n<table border=\"1\" class=\"dataframe\">\n  <thead>\n    <tr>\n      <th></th>\n      <th colspan=\"2\" halign=\"left\">value</th>\n    </tr>\n    <tr>\n      <th></th>\n      <th>sum</th>\n      <th>mean</th>\n    </tr>\n    <tr>\n      <th>category</th>\n      <th></th>\n      <th></th>\n    </tr>\n  </thead>\n  <tbody>\n    <tr>\n      <th>A</th>\n      <td>46</td>\n      <td>11.500000</td>\n    </tr>\n    <tr>\n      <th>B</th>\n      <td>47</td>\n      <td>15.666667</td>\n    </tr>\n    <tr>\n      <th>C</th>\n      <td>83</td>\n      <td>27.666667</td>\n    </tr>\n  </tbody>\n</table>\n</div>"
     },
     "execution_count": 44,
     "metadata": {},
     "output_type": "execute_result"
    }
   ],
   "source": [
    "data.groupby('category').agg({'value': ['sum', 'mean']})"
   ],
   "metadata": {
    "collapsed": false,
    "ExecuteTime": {
     "end_time": "2025-08-15T13:28:23.537189Z",
     "start_time": "2025-08-15T13:28:23.533079Z"
    }
   },
   "id": "8000c5d082feb081"
  },
  {
   "cell_type": "markdown",
   "source": [
    "## 4. Save Outputs"
   ],
   "metadata": {
    "collapsed": false
   },
   "id": "b27d35abe58ecaf2"
  },
  {
   "cell_type": "markdown",
   "source": [
    "### 4.1 Save summary stats to data/processed/summary.csv or .json"
   ],
   "metadata": {
    "collapsed": false
   },
   "id": "a3c44154932ae6b1"
  },
  {
   "cell_type": "code",
   "execution_count": 45,
   "outputs": [],
   "source": [
    "summary_data = data.describe()\n",
    "summary_data.to_csv('../data/processed/summary.csv')"
   ],
   "metadata": {
    "collapsed": false,
    "ExecuteTime": {
     "end_time": "2025-08-15T13:28:26.561534Z",
     "start_time": "2025-08-15T13:28:26.551677Z"
    }
   },
   "id": "5339a16a1c612f5b"
  },
  {
   "cell_type": "markdown",
   "source": [
    "### 4.2 Bonus: Create and save a basic plot"
   ],
   "metadata": {
    "collapsed": false
   },
   "id": "5968c8ca484eb333"
  },
  {
   "cell_type": "code",
   "execution_count": 49,
   "outputs": [
    {
     "data": {
      "text/plain": "<Figure size 1000x600 with 1 Axes>",
      "image/png": "[encoded data removed]"
     },
     "metadata": {},
     "output_type": "display_data"
    }
   ],
   "source": [
    "from matplotlib.dates import DateFormatter\n",
    "\n",
    "groups = data.groupby('category')\n",
    "\n",
    "plt.figure(figsize=(10, 6))\n",
    "\n",
    "for name, group in groups:\n",
    "    plt.plot(group['date'], \n",
    "             group['value'], \n",
    "             marker='o', \n",
    "             label=f'Category {name}',\n",
    "             linewidth=2)\n",
    "\n",
    "plt.xlabel('Date', fontsize=12)\n",
    "plt.ylabel('Value', fontsize=12)\n",
    "plt.legend(title='Categories', frameon=True)\n",
    "\n",
    "plt.savefig('../figs/hw03_python_fundamentals_fig1.png', dpi=300)\n",
    "plt.show()"
   ],
   "metadata": {
    "collapsed": false,
    "ExecuteTime": {
     "end_time": "2025-08-15T13:31:56.550233Z",
     "start_time": "2025-08-15T13:31:56.280387Z"
    }
   },
   "id": "162554bb5d0b8a15"
  },
  {
   "cell_type": "markdown",
   "source": [
    "## 5. Reusable Functions"
   ],
   "metadata": {
    "collapsed": false
   },
   "id": "5548617bbd445868"
  },
  {
   "cell_type": "markdown",
   "source": [
    "### 5.1 Write at least one utility function"
   ],
   "metadata": {
    "collapsed": false
   },
   "id": "ca649e627dd5c13a"
  },
  {
   "cell_type": "code",
   "execution_count": 50,
   "outputs": [],
   "source": [
    "def get_summary_stats(df):\n",
    "    return df.describe()"
   ],
   "metadata": {
    "collapsed": false,
    "ExecuteTime": {
     "end_time": "2025-08-15T13:33:33.970236Z",
     "start_time": "2025-08-15T13:33:33.960611Z"
    }
   },
   "id": "18d62b4f1b405f52"
  },
  {
   "cell_type": "markdown",
   "source": [
    "### 5.2 Bonus: Move fuction to src/utils.py and import in notebook"
   ],
   "metadata": {
    "collapsed": false
   },
   "id": "d7bbb24328a683df"
  },
  {
   "cell_type": "code",
   "execution_count": null,
   "outputs": [],
   "source": [],
   "metadata": {
    "collapsed": false
   },
   "id": "811a1b01cb19a12e"
  }
 ],
 "metadata": {
  "kernelspec": {
   "display_name": "Python 3",
   "language": "python",
   "name": "python3"
  },
  "language_info": {
   "codemirror_mode": {
    "name": "ipython",
    "version": 2
   },
   "file_extension": ".py",
   "mimetype": "text/x-python",
   "name": "python",
   "nbconvert_exporter": "python",
   "pygments_lexer": "ipython2",
   "version": "2.7.6"
  }
 },
 "nbformat": 4,
 "nbformat_minor": 5
}
