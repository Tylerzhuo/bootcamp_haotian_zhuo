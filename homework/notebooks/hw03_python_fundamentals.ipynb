{
 "cells": [
  {
   "cell_type": "code",
   "execution_count": 1,
   "id": "initial_id",
   "metadata": {
    "collapsed": true,
    "ExecuteTime": {
     "end_time": "2025-08-14T22:40:37.108465Z",
     "start_time": "2025-08-14T22:40:36.594885Z"
    }
   },
   "outputs": [],
   "source": [
    "import numpy as np"
   ]
  },
  {
   "cell_type": "markdown",
   "source": [
    "## 1. Numpy Operations"
   ],
   "metadata": {
    "collapsed": false
   },
   "id": "1cbef992353cd087"
  },
  {
   "cell_type": "markdown",
   "source": [
    "### 1.1 Create an array and perform elementwise operations"
   ],
   "metadata": {
    "collapsed": false
   },
   "id": "6e069d71daf50724"
  },
  {
   "cell_type": "code",
   "execution_count": 3,
   "outputs": [
    {
     "name": "stdout",
     "output_type": "stream",
     "text": [
      "add:  [5 7 9]\n",
      "subtract:  [-3 -3 -3]\n",
      "multiply:  [ 4 10 18]\n",
      "divide  [0.25 0.4  0.5 ]\n"
     ]
    }
   ],
   "source": [
    "arr_1 = np.array([1, 2, 3])\n",
    "arr_2 = np.array([4, 5, 6])\n",
    "\n",
    "add_res = arr_1 + arr_2\n",
    "sub_res = arr_1 - arr_2\n",
    "mul_res = arr_1 * arr_2\n",
    "div_res = arr_1 / arr_2\n",
    "\n",
    "print(\"add: \", add_res)\n",
    "print(\"subtract: \", sub_res)\n",
    "print(\"multiply: \", mul_res)\n",
    "print(\"divide \", div_res)"
   ],
   "metadata": {
    "collapsed": false,
    "ExecuteTime": {
     "end_time": "2025-08-15T00:07:00.889820Z",
     "start_time": "2025-08-15T00:07:00.878863Z"
    }
   },
   "id": "df43bcf10c043634"
  },
  {
   "cell_type": "markdown",
   "source": [
    "### 1.2 Compare loop vs vectorized execution"
   ],
   "metadata": {
    "collapsed": false
   },
   "id": "d6389e25cbbb3185"
  },
  {
   "cell_type": "code",
   "execution_count": 10,
   "outputs": [
    {
     "name": "stdout",
     "output_type": "stream",
     "text": [
      "loop time is: 0.15s\n",
      "vectorized time is: 0.00s\n",
      "vectorized execution is 0.15s faster than loop.\n"
     ]
    }
   ],
   "source": [
    "import time\n",
    "large_arr_1 = np.random.rand(1000000)\n",
    "large_arr_2 = np.random.rand(1000000)\n",
    "\n",
    "# Loop\n",
    "result = np.empty(len(large_arr_1))\n",
    "start_time = time.time()\n",
    "for i in range(len(large_arr_1)):\n",
    "    result[i] = large_arr_1[i] + large_arr_2[i]\n",
    "loop_time = time.time() - start_time\n",
    "\n",
    "# Vectorized\n",
    "start_time_vec = time.time()\n",
    "result_vec = large_arr_1 + large_arr_2\n",
    "vec_time = time.time() - start_time_vec\n",
    "\n",
    "print(\"loop time is: %.2fs\" % loop_time)\n",
    "print(\"vectorized time is: %.2fs\" % vec_time)\n",
    "print(\"vectorized execution is %.2fs faster than loop.\" % (loop_time-vec_time))"
   ],
   "metadata": {
    "collapsed": false,
    "ExecuteTime": {
     "end_time": "2025-08-15T00:20:01.620706Z",
     "start_time": "2025-08-15T00:20:01.458601Z"
    }
   },
   "id": "12c6db5f8f584286"
  },
  {
   "cell_type": "markdown",
   "source": [
    "## 2. Dataset Loading"
   ],
   "metadata": {
    "collapsed": false
   },
   "id": "43f30723665ed74a"
  },
  {
   "cell_type": "markdown",
   "source": [
    "### 2.1 Load provided CSV using pandas"
   ],
   "metadata": {
    "collapsed": false
   },
   "id": "3c292db1d6d9966"
  },
  {
   "cell_type": "code",
   "execution_count": 12,
   "outputs": [],
   "source": [],
   "metadata": {
    "collapsed": false,
    "ExecuteTime": {
     "end_time": "2025-08-15T00:21:10.634316Z",
     "start_time": "2025-08-15T00:21:10.617078Z"
    }
   },
   "id": "b53466bd15a33aa5"
  },
  {
   "cell_type": "markdown",
   "source": [
    "### 2.2 Inspect with .info() and .head()"
   ],
   "metadata": {
    "collapsed": false
   },
   "id": "e810c9a94236d578"
  },
  {
   "cell_type": "code",
   "execution_count": null,
   "outputs": [],
   "source": [],
   "metadata": {
    "collapsed": false
   },
   "id": "38385b61b91fe130"
  },
  {
   "cell_type": "markdown",
   "source": [
    "## 3. Summary Statistics"
   ],
   "metadata": {
    "collapsed": false
   },
   "id": "f2bb3ee7f22e338f"
  },
  {
   "cell_type": "markdown",
   "source": [
    "### 3.1 calculate .describe() for numeric columns"
   ],
   "metadata": {
    "collapsed": false
   },
   "id": "daa7eadfaac7f185"
  },
  {
   "cell_type": "code",
   "execution_count": 22,
   "outputs": [],
   "source": [],
   "metadata": {
    "collapsed": false,
    "ExecuteTime": {
     "end_time": "2025-08-15T00:24:30.140901Z",
     "start_time": "2025-08-15T00:24:30.133444Z"
    }
   },
   "id": "60ff9956d8170dc8"
  },
  {
   "cell_type": "markdown",
   "source": [
    "### 3.2 Perform .groupby() aggregation by category"
   ],
   "metadata": {
    "collapsed": false
   },
   "id": "ef5dd6b6eff9bf05"
  },
  {
   "cell_type": "code",
   "execution_count": 22,
   "outputs": [],
   "source": [],
   "metadata": {
    "collapsed": false,
    "ExecuteTime": {
     "end_time": "2025-08-15T00:24:33.106161Z",
     "start_time": "2025-08-15T00:24:33.099627Z"
    }
   },
   "id": "8000c5d082feb081"
  },
  {
   "cell_type": "markdown",
   "source": [
    "## 4. Save Outputs"
   ],
   "metadata": {
    "collapsed": false
   },
   "id": "b27d35abe58ecaf2"
  },
  {
   "cell_type": "markdown",
   "source": [
    "### 4.1 Save summary stats to data/processed/summary.csv or .json"
   ],
   "metadata": {
    "collapsed": false
   },
   "id": "a3c44154932ae6b1"
  },
  {
   "cell_type": "code",
   "execution_count": 22,
   "outputs": [],
   "source": [],
   "metadata": {
    "collapsed": false,
    "ExecuteTime": {
     "end_time": "2025-08-15T00:24:35.581453Z",
     "start_time": "2025-08-15T00:24:35.574931Z"
    }
   },
   "id": "5339a16a1c612f5b"
  },
  {
   "cell_type": "markdown",
   "source": [
    "### 4.2 Bonus: Create and save a basic plot"
   ],
   "metadata": {
    "collapsed": false
   },
   "id": "5968c8ca484eb333"
  },
  {
   "cell_type": "code",
   "execution_count": 22,
   "outputs": [],
   "source": [],
   "metadata": {
    "collapsed": false,
    "ExecuteTime": {
     "end_time": "2025-08-15T00:24:38.908237Z",
     "start_time": "2025-08-15T00:24:38.906134Z"
    }
   },
   "id": "162554bb5d0b8a15"
  },
  {
   "cell_type": "markdown",
   "source": [
    "## 5. Reusable Functions"
   ],
   "metadata": {
    "collapsed": false
   },
   "id": "5548617bbd445868"
  },
  {
   "cell_type": "markdown",
   "source": [
    "### 5.1 Write at least one utility function"
   ],
   "metadata": {
    "collapsed": false
   },
   "id": "ca649e627dd5c13a"
  },
  {
   "cell_type": "code",
   "execution_count": 22,
   "outputs": [],
   "source": [],
   "metadata": {
    "collapsed": false,
    "ExecuteTime": {
     "end_time": "2025-08-15T00:24:41.931300Z",
     "start_time": "2025-08-15T00:24:41.926758Z"
    }
   },
   "id": "18d62b4f1b405f52"
  },
  {
   "cell_type": "markdown",
   "source": [
    "### 5.2 Bonus: Move fuction to src/utils.py and import in notebook"
   ],
   "metadata": {
    "collapsed": false
   },
   "id": "d7bbb24328a683df"
  },
  {
   "cell_type": "code",
   "execution_count": null,
   "outputs": [],
   "source": [],
   "metadata": {
    "collapsed": false
   },
   "id": "c4cfeb1884959715"
  }
 ],
 "metadata": {
  "kernelspec": {
   "display_name": "Python 3",
   "language": "python",
   "name": "python3"
  },
  "language_info": {
   "codemirror_mode": {
    "name": "ipython",
    "version": 2
   },
   "file_extension": ".py",
   "mimetype": "text/x-python",
   "name": "python",
   "nbconvert_exporter": "python",
   "pygments_lexer": "ipython2",
   "version": "2.7.6"
  }
 },
 "nbformat": 4,
 "nbformat_minor": 5
}
