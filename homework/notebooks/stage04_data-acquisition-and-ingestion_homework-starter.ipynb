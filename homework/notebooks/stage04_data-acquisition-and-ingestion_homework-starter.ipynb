{
 "cells": [
  {
   "cell_type": "markdown",
   "source": [
    "## 1. API Pull"
   ],
   "metadata": {
    "collapsed": false
   },
   "id": "febe560b4b4d1904"
  },
  {
   "cell_type": "code",
   "execution_count": 2,
   "outputs": [],
   "source": [
    "import os\n",
    "from dotenv import load_dotenv\n",
    "import requests\n",
    "import pandas as pd\n",
    "from datetime import datetime\n",
    "\n",
    "load_dotenv()\n",
    "API_KEY = os.getenv('ALPHA_VANTAGE_KEY')\n",
    "\n",
    "params = {\n",
    "    'function': 'TIME_SERIES_DAILY',\n",
    "    'symbol': 'MSFT',\n",
    "    'outputsize': 'compact',\n",
    "    'apikey': API_KEY\n",
    "}\n",
    "\n",
    "response = requests.get('https://www.alphavantage.co/query', params=params)\n",
    "data = response.json()\n",
    "data\n",
    "\n",
    "df_api = pd.DataFrame(data['Time Series (Daily)']).T\n",
    "df_api = df_api.rename(columns={\n",
    "    '1. open': 'open',\n",
    "    '2. high': 'high',\n",
    "    '3. low': 'low',\n",
    "    '4. close': 'close',\n",
    "    '5. volume': 'volume'\n",
    "}).astype(float)\n",
    "\n",
    "assert not df_api.empty, \"API returned empty dataset - check symbol or API connectivity\"\n",
    "assert {'open', 'high', 'low', 'close', 'volume'}.issubset(df_api.columns)\n",
    "\n",
    "timestamp = datetime.now().strftime(\"%Y%m%d-%H%M\")\n",
    "df_api.to_csv(f\"../data/raw/api_alphavantage_MSFT_{timestamp}.csv\")"
   ],
   "metadata": {
    "collapsed": false,
    "ExecuteTime": {
     "end_time": "2025-08-16T03:39:02.139243Z",
     "start_time": "2025-08-16T03:39:01.570597Z"
    }
   },
   "id": "4de67a40ff0805a5"
  },
  {
   "cell_type": "markdown",
   "source": [
    "## 2. Scrape a Small Table"
   ],
   "metadata": {
    "collapsed": false
   },
   "id": "c25f078356b3c869"
  },
  {
   "cell_type": "code",
   "execution_count": 12,
   "outputs": [
    {
     "name": "stdout",
     "output_type": "stream",
     "text": [
      "Data successfully saved to ../data/raw/scrape_macrotrends_MSFT_revenue_20250815-2355.csv\n"
     ]
    }
   ],
   "source": [
    "from bs4 import BeautifulSoup\n",
    "\n",
    "headers = {\n",
    "    'User-Agent': 'Mozilla/5.0 (Windows NT 10.0; Win64; x64) AppleWebKit/537.36 (KHTML, like Gecko) Chrome/119.0.0.0 Safari/537.36',\n",
    "    'Referer': 'https://www.google.com/'\n",
    "}\n",
    "\n",
    "url = \"https://www.macrotrends.net/stocks/charts/MSFT/microsoft/revenue\"\n",
    "\n",
    "# Send request\n",
    "response = requests.get(url, headers=headers)\n",
    "response.raise_for_status()  \n",
    "\n",
    "soup = BeautifulSoup(response.text, 'html.parser')\n",
    "table = soup.find('table', {'class': 'historical_data_table'})\n",
    "\n",
    "df = pd.read_html(str(table))[0]\n",
    "df\n",
    "df.columns = ['Year', 'Revenue'] \n",
    "\n",
    "def clean_currency(x):\n",
    "    if isinstance(x, str):\n",
    "        x = x.replace('$', '').replace('B', '').replace(',', '')\n",
    "        return float(x) if x else None  \n",
    "    return x\n",
    "\n",
    "df['Revenue'] = df['Revenue'].apply(clean_currency)\n",
    "\n",
    "assert len(df) >= 5, f\"Minimum 5 rows required, got {len(df)}\"\n",
    "assert 'Revenue' in df.columns, \"Missing Revenue column\"\n",
    "\n",
    "timestamp = datetime.now().strftime(\"%Y%m%d-%H%M\")\n",
    "output_path = f\"../data/raw/scrape_macrotrends_MSFT_revenue_{timestamp}.csv\"\n",
    "df.to_csv(output_path, index=False)\n",
    "print(f\"Data successfully saved to {output_path}\")"
   ],
   "metadata": {
    "collapsed": false,
    "ExecuteTime": {
     "end_time": "2025-08-16T03:55:10.582275Z",
     "start_time": "2025-08-16T03:55:10.450491Z"
    }
   },
   "id": "6cb67b9260d0d126"
  }
 ],
 "metadata": {
  "kernelspec": {
   "display_name": "Python 3",
   "language": "python",
   "name": "python3"
  },
  "language_info": {
   "codemirror_mode": {
    "name": "ipython",
    "version": 2
   },
   "file_extension": ".py",
   "mimetype": "text/x-python",
   "name": "python",
   "nbconvert_exporter": "python",
   "pygments_lexer": "ipython2",
   "version": "2.7.6"
  }
 },
 "nbformat": 4,
 "nbformat_minor": 5
}
