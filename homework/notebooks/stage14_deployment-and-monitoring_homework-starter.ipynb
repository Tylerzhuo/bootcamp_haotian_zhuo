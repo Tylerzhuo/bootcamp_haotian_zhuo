{
 "cells": [
  {
   "cell_type": "markdown",
   "metadata": {},
   "source": [
    "# Homework Starter — Stage 14: Deployment & Monitoring\n",
    "\n",
    "Use this template to draft your reflection and (optionally) sketch a dashboard."
   ],
   "id": "64fae3472efd769c"
  },
  {
   "cell_type": "markdown",
   "metadata": {},
   "source": [
    "## 1) Reflection (200–300 words)\n",
    "- Risks if deployed:\n",
    "- Monitoring metrics across layers (Data/Model/System/Business):\n",
    "- Ownership & handoffs:\n",
    "\n",
    "> Tip: Be specific (e.g., 'p95 latency > 250ms triggers on-call notification')."
   ],
   "id": "2e5a81190f323c90"
  },
  {
   "cell_type": "markdown",
   "source": [
    "# Reflection on Deployment & Monitoring\n",
    "\n",
    "If deployed, the current regression model could face several risks. The most immediate is **data drift**, such as schema changes in raw financial inputs or sudden spikes in null values. This could silently degrade predictions without obvious errors. Another risk is **model decay**: coefficients fitted on past returns may lose predictive power as market regimes shift. At the system layer, risks include API downtime, slow response times, or failed batch jobs. Finally, there is a **business risk** that stakeholders rely too heavily on model outputs without human oversight.\n",
    "\n",
    "To mitigate these, I would monitor across four layers:\n",
    "\n",
    "- **Data:** Track schema hash, null rate, and freshness (e.g., alert if last batch > 30 minutes late or null rate > 5%).  \n",
    "- **Model:** Track rolling MAE and R² on hold-out data, plus PSI (population stability index) for top features. Retraining is triggered if PSI > 0.1 or if 2-week rolling MAE exceeds baseline.  \n",
    "- **System:** Monitor request latency (p95 < 250ms), API error rates, and batch job success rate. Any failure generates an on-call alert.  \n",
    "- **Business:** Monitor KPIs such as portfolio approval rate or percentage of predictions actually used. If these fall below 70%, it signals trust or usability issues.\n",
    "\n",
    "**Ownership and Handoffs:**  \n",
    "- Data engineering team maintains schema and freshness monitoring.  \n",
    "- ML team owns model metrics and retraining cadence.  \n",
    "- Platform/on-call engineers own uptime and error alerts.  \n",
    "- Business analysts review dashboards weekly and escalate if KPIs fall outside thresholds.  \n",
    "\n",
    "This clear division ensures sustainable maintenance and effective handoff across teams.\n"
   ],
   "metadata": {
    "collapsed": false
   },
   "id": "bccf3e588b59f4f6"
  },
  {
   "cell_type": "markdown",
   "metadata": {},
   "source": [
    "## 2) Optional: Dashboard Sketch\n",
    "Describe panels and key charts. You can also attach an image file in your repo (png/pdf)."
   ],
   "id": "fb83ceb0802cb08d"
  },
  {
   "cell_type": "code",
   "execution_count": 3,
   "metadata": {
    "ExecuteTime": {
     "end_time": "2025-08-27T21:41:54.335723Z",
     "start_time": "2025-08-27T21:41:54.330132Z"
    }
   },
   "outputs": [
    {
     "data": {
      "text/plain": "{'data': ['freshness_minutes', 'null_rate', 'schema_hash'],\n 'model': ['rolling_mae_or_auc', 'calibration_error'],\n 'system': ['p95_latency_ms', 'error_rate'],\n 'business': ['approval_rate', 'bad_rate']}"
     },
     "execution_count": 3,
     "metadata": {},
     "output_type": "execute_result"
    }
   ],
   "source": [
    "# Optional helper: simple structure to list metrics\n",
    "monitoring = {\n",
    "    'data': ['freshness_minutes', 'null_rate', 'schema_hash'],\n",
    "    'model': ['rolling_mae_or_auc', 'calibration_error'],\n",
    "    'system': ['p95_latency_ms', 'error_rate'],\n",
    "    'business': ['approval_rate', 'bad_rate']\n",
    "}\n",
    "monitoring"
   ],
   "id": "9eda592ab1ca702e"
  },
  {
   "cell_type": "code",
   "execution_count": null,
   "outputs": [],
   "source": [],
   "metadata": {
    "collapsed": false
   },
   "id": "8cf6d72b0122306"
  }
 ],
 "metadata": {
  "kernelspec": {
   "display_name": "Python 3",
   "language": "python",
   "name": "python3"
  },
  "language_info": {
   "name": "python",
   "version": ""
  }
 },
 "nbformat": 4,
 "nbformat_minor": 5
}
