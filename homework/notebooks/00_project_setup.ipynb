{
 "cells": [
  {
   "cell_type": "markdown",
   "source": [
    "# Environment & Config Check"
   ],
   "metadata": {
    "collapsed": false
   },
   "id": "9d40f7f1963a196"
  },
  {
   "cell_type": "code",
   "execution_count": 1,
   "outputs": [
    {
     "name": "stdout",
     "output_type": "stream",
     "text": [
      "API_KEY present: True\n"
     ]
    }
   ],
   "source": [
    "from bootcamp_haotian_zhuo.homework.src.config import load_env, get_key\n",
    "from dotenv import load_dotenv\n",
    "import numpy as np\n",
    "\n",
    "load_env()\n",
    "print(f\"API_KEY present: {bool(get_key())}\")"
   ],
   "metadata": {
    "collapsed": false,
    "ExecuteTime": {
     "end_time": "2025-08-15T02:58:46.215449Z",
     "start_time": "2025-08-15T02:58:46.131805Z"
    }
   },
   "id": "1fc557109ba215d2"
  },
  {
   "cell_type": "code",
   "execution_count": null,
   "outputs": [],
   "source": [],
   "metadata": {
    "collapsed": false
   },
   "id": "997a179e75c12366"
  }
 ],
 "metadata": {
  "kernelspec": {
   "display_name": "Python 3",
   "language": "python",
   "name": "python3"
  },
  "language_info": {
   "codemirror_mode": {
    "name": "ipython",
    "version": 2
   },
   "file_extension": ".py",
   "mimetype": "text/x-python",
   "name": "python",
   "nbconvert_exporter": "python",
   "pygments_lexer": "ipython2",
   "version": "2.7.6"
  }
 },
 "nbformat": 4,
 "nbformat_minor": 5
}
