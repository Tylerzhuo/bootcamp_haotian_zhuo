{
 "cells": [
  {
   "cell_type": "markdown",
   "metadata": {},
   "source": [
    "# Homework Starter — Stage 6: Data Preprocessing\n",
    "Use this notebook to apply your cleaning functions and save processed data."
   ]
  },
  {
   "cell_type": "code",
   "metadata": {
    "ExecuteTime": {
     "end_time": "2025-08-19T22:37:52.406511Z",
     "start_time": "2025-08-19T22:37:52.144295Z"
    }
   },
   "source": [
    "import pandas as pd\n",
    "import sys\n",
    "import os\n",
    "sys.path.append(os.path.abspath(\"..\"))  # 把上一级目录加入搜索路径\n",
    "\n",
    "from src import cleaning"
   ],
   "execution_count": 1,
   "outputs": []
  },
  {
   "cell_type": "markdown",
   "metadata": {},
   "source": [
    "## Load Raw Dataset"
   ]
  },
  {
   "cell_type": "code",
   "metadata": {
    "ExecuteTime": {
     "end_time": "2025-08-19T22:37:52.417526Z",
     "start_time": "2025-08-19T22:37:52.407642Z"
    }
   },
   "source": [
    "df = pd.read_csv('../data/raw/sample_20250816-223803.csv')\n",
    "df.head()"
   ],
   "execution_count": 2,
   "outputs": [
    {
     "data": {
      "text/plain": "         date ticker       price\n0  2024-01-01   AAPL  149.069468\n1  2024-01-02   AAPL  149.745522\n2  2024-01-03   AAPL  149.633682\n3  2024-01-04   AAPL  150.605201\n4  2024-01-05   AAPL  151.356323",
      "text/html": "<div>\n<style scoped>\n    .dataframe tbody tr th:only-of-type {\n        vertical-align: middle;\n    }\n\n    .dataframe tbody tr th {\n        vertical-align: top;\n    }\n\n    .dataframe thead th {\n        text-align: right;\n    }\n</style>\n<table border=\"1\" class=\"dataframe\">\n  <thead>\n    <tr style=\"text-align: right;\">\n      <th></th>\n      <th>date</th>\n      <th>ticker</th>\n      <th>price</th>\n    </tr>\n  </thead>\n  <tbody>\n    <tr>\n      <th>0</th>\n      <td>2024-01-01</td>\n      <td>AAPL</td>\n      <td>149.069468</td>\n    </tr>\n    <tr>\n      <th>1</th>\n      <td>2024-01-02</td>\n      <td>AAPL</td>\n      <td>149.745522</td>\n    </tr>\n    <tr>\n      <th>2</th>\n      <td>2024-01-03</td>\n      <td>AAPL</td>\n      <td>149.633682</td>\n    </tr>\n    <tr>\n      <th>3</th>\n      <td>2024-01-04</td>\n      <td>AAPL</td>\n      <td>150.605201</td>\n    </tr>\n    <tr>\n      <th>4</th>\n      <td>2024-01-05</td>\n      <td>AAPL</td>\n      <td>151.356323</td>\n    </tr>\n  </tbody>\n</table>\n</div>"
     },
     "execution_count": 2,
     "metadata": {},
     "output_type": "execute_result"
    }
   ]
  },
  {
   "cell_type": "markdown",
   "metadata": {},
   "source": [
    "## Apply Cleaning Functions"
   ]
  },
  {
   "cell_type": "code",
   "metadata": {
    "ExecuteTime": {
     "end_time": "2025-08-19T22:37:53.600579Z",
     "start_time": "2025-08-19T22:37:53.598923Z"
    }
   },
   "source": [
    "df = cleaning.fill_missing_median(df, ['price'])\n",
    "df = cleaning.drop_missing(df, threshold=0.5)\n",
    "df = cleaning.normalize_data(df, ['price'])"
   ],
   "execution_count": 3,
   "outputs": []
  },
  {
   "cell_type": "markdown",
   "metadata": {},
   "source": [
    "## Save Cleaned Dataset"
   ]
  },
  {
   "cell_type": "code",
   "metadata": {
    "ExecuteTime": {
     "end_time": "2025-08-19T22:38:28.071339Z",
     "start_time": "2025-08-19T22:38:28.062577Z"
    }
   },
   "source": [
    "df.to_csv('../data/processed/sample_data_cleaned.csv', index=False)"
   ],
   "execution_count": 4,
   "outputs": []
  }
 ],
 "metadata": {
  "kernelspec": {
   "display_name": "Python 3",
   "language": "python",
   "name": "python3"
  }
 },
 "nbformat": 4,
 "nbformat_minor": 2
}
