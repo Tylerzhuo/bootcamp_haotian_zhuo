{
 "cells": [
  {
   "cell_type": "markdown",
   "metadata": {},
   "source": [
    "# Homework Starter — Stage 15: Orchestration & System Design\n",
    "Complete the sections below. Keep your answers concise and focused on orchestration readiness."
   ],
   "id": "c5ad869e533a8142"
  },
  {
   "cell_type": "markdown",
   "metadata": {},
   "source": [
    "## 1) Project Task Decomposition\n",
    "List 4–8 tasks. Add more rows as needed."
   ],
   "id": "59a0de4346180602"
  },
  {
   "cell_type": "code",
   "execution_count": 1,
   "metadata": {
    "ExecuteTime": {
     "end_time": "2025-08-27T21:44:26.048123Z",
     "start_time": "2025-08-27T21:44:25.866791Z"
    }
   },
   "outputs": [
    {
     "data": {
      "text/plain": "             task             inputs            outputs  idempotent\n0          ingest      /data/raw.ext    prices_raw.json        True\n1           clean    prices_raw.json  prices_clean.json        True\n2  train_or_score  prices_clean.json         model.json        True\n3          report         model.json         report.txt        True",
      "text/html": "<div>\n<style scoped>\n    .dataframe tbody tr th:only-of-type {\n        vertical-align: middle;\n    }\n\n    .dataframe tbody tr th {\n        vertical-align: top;\n    }\n\n    .dataframe thead th {\n        text-align: right;\n    }\n</style>\n<table border=\"1\" class=\"dataframe\">\n  <thead>\n    <tr style=\"text-align: right;\">\n      <th></th>\n      <th>task</th>\n      <th>inputs</th>\n      <th>outputs</th>\n      <th>idempotent</th>\n    </tr>\n  </thead>\n  <tbody>\n    <tr>\n      <th>0</th>\n      <td>ingest</td>\n      <td>/data/raw.ext</td>\n      <td>prices_raw.json</td>\n      <td>True</td>\n    </tr>\n    <tr>\n      <th>1</th>\n      <td>clean</td>\n      <td>prices_raw.json</td>\n      <td>prices_clean.json</td>\n      <td>True</td>\n    </tr>\n    <tr>\n      <th>2</th>\n      <td>train_or_score</td>\n      <td>prices_clean.json</td>\n      <td>model.json</td>\n      <td>True</td>\n    </tr>\n    <tr>\n      <th>3</th>\n      <td>report</td>\n      <td>model.json</td>\n      <td>report.txt</td>\n      <td>True</td>\n    </tr>\n  </tbody>\n</table>\n</div>"
     },
     "execution_count": 1,
     "metadata": {},
     "output_type": "execute_result"
    }
   ],
   "source": [
    "from pathlib import Path\n",
    "import pandas as pd\n",
    "tasks = pd.DataFrame({\n",
    "    'task': ['ingest', 'clean', 'train_or_score', 'report'],\n",
    "    'inputs': ['/data/raw.ext', 'prices_raw.json', 'prices_clean.json', 'model.json'],\n",
    "    'outputs': ['prices_raw.json', 'prices_clean.json', 'model.json', 'report.txt'],\n",
    "    'idempotent': [True, True, True, True]\n",
    "})\n",
    "tasks"
   ],
   "id": "b980682233282389"
  },
  {
   "cell_type": "markdown",
   "metadata": {},
   "source": [
    "## 2) Dependencies (DAG)\n",
    "Describe dependencies and paste a small diagram if you have one."
   ],
   "id": "e2b308bb3ffbbddf"
  },
  {
   "cell_type": "code",
   "execution_count": 2,
   "metadata": {
    "ExecuteTime": {
     "end_time": "2025-08-27T21:44:33.462608Z",
     "start_time": "2025-08-27T21:44:33.456173Z"
    }
   },
   "outputs": [
    {
     "data": {
      "text/plain": "{'ingest': [],\n 'clean': ['ingest'],\n 'train_or_score': ['clean'],\n 'report': ['train_or_score']}"
     },
     "execution_count": 2,
     "metadata": {},
     "output_type": "execute_result"
    }
   ],
   "source": [
    "dag = {\n",
    "    'ingest': [],\n",
    "    'clean': ['ingest'],\n",
    "    'train_or_score': ['clean'],\n",
    "    'report': ['train_or_score']\n",
    "}\n",
    "dag"
   ],
   "id": "4e947ea0a08cbcbf"
  },
  {
   "cell_type": "markdown",
   "metadata": {},
   "source": [
    "## 3) Logging & Checkpoints Plan\n",
    "Specify what you will log and where you will checkpoint for each task."
   ],
   "id": "35f2e83ad2b6f2d6"
  },
  {
   "cell_type": "code",
   "execution_count": 3,
   "metadata": {
    "ExecuteTime": {
     "end_time": "2025-08-27T21:44:39.054722Z",
     "start_time": "2025-08-27T21:44:39.047947Z"
    }
   },
   "outputs": [
    {
     "data": {
      "text/plain": "             task                 log_messages checkpoint_artifact\n0          ingest  start/end, rows, source URI     prices_raw.json\n1           clean       start/end, rows in/out   prices_clean.json\n2  train_or_score              params, metrics          model.json\n3          report                artifact path          report.txt",
      "text/html": "<div>\n<style scoped>\n    .dataframe tbody tr th:only-of-type {\n        vertical-align: middle;\n    }\n\n    .dataframe tbody tr th {\n        vertical-align: top;\n    }\n\n    .dataframe thead th {\n        text-align: right;\n    }\n</style>\n<table border=\"1\" class=\"dataframe\">\n  <thead>\n    <tr style=\"text-align: right;\">\n      <th></th>\n      <th>task</th>\n      <th>log_messages</th>\n      <th>checkpoint_artifact</th>\n    </tr>\n  </thead>\n  <tbody>\n    <tr>\n      <th>0</th>\n      <td>ingest</td>\n      <td>start/end, rows, source URI</td>\n      <td>prices_raw.json</td>\n    </tr>\n    <tr>\n      <th>1</th>\n      <td>clean</td>\n      <td>start/end, rows in/out</td>\n      <td>prices_clean.json</td>\n    </tr>\n    <tr>\n      <th>2</th>\n      <td>train_or_score</td>\n      <td>params, metrics</td>\n      <td>model.json</td>\n    </tr>\n    <tr>\n      <th>3</th>\n      <td>report</td>\n      <td>artifact path</td>\n      <td>report.txt</td>\n    </tr>\n  </tbody>\n</table>\n</div>"
     },
     "execution_count": 3,
     "metadata": {},
     "output_type": "execute_result"
    }
   ],
   "source": [
    "logging_plan = pd.DataFrame({\n",
    "    'task': ['ingest', 'clean', 'train_or_score', 'report'],\n",
    "    'log_messages': [\n",
    "        'start/end, rows, source URI',\n",
    "        'start/end, rows in/out',\n",
    "        'params, metrics',\n",
    "        'artifact path'\n",
    "    ],\n",
    "    'checkpoint_artifact': [\n",
    "        'prices_raw.json',\n",
    "        'prices_clean.json',\n",
    "        'model.json',\n",
    "        'report.txt'\n",
    "    ]\n",
    "})\n",
    "logging_plan"
   ],
   "id": "936d90bfa3cd8954"
  },
  {
   "cell_type": "markdown",
   "metadata": {},
   "source": [
    "## 4) Right-Sizing Automation\n",
    "Which parts will you automate now? Which stay manual? Why?"
   ],
   "id": "7d3c72c6b073987a"
  },
  {
   "cell_type": "markdown",
   "metadata": {},
   "source": [
    "- Automate now: `ingest`, `clean`, `train_or_score` — these are deterministic, idempotent, and have clear inputs/outputs.\n",
    "- Keep manual (for now): `report` narrative writing and visual polishing; automate only the metrics dump.\n",
    "- Rationale: focusing automation on steps with clear schemas maximizes reproducibility and reduces toil; the narrative step benefits from human review.\n",
    "*(Write your rationale here.)*"
   ],
   "id": "7f9620f3fe6fd84b"
  },
  {
   "cell_type": "markdown",
   "metadata": {},
   "source": [
    "## 5) (Stretch) Refactor One Task into a Function + CLI\n",
    "Use the templates below."
   ],
   "id": "4e4ba978e0a4814"
  },
  {
   "cell_type": "code",
   "execution_count": 6,
   "metadata": {
    "ExecuteTime": {
     "end_time": "2025-08-27T21:48:02.149727Z",
     "start_time": "2025-08-27T21:48:02.145396Z"
    }
   },
   "outputs": [],
   "source": [
    "import argparse, json, logging, sys\n",
    "from pathlib import Path\n",
    "from datetime import datetime\n",
    "\n",
    "def my_task(input_path: str, output_path: str) -> None:\n",
    "    \"\"\"\n",
    "    Example task template: read JSON -> transform -> write JSON.\n",
    "    Replace the 'result' construction with your real logic.\n",
    "    \"\"\"\n",
    "    logging.info(\"[my_task] start\")\n",
    "    src = Path(input_path)\n",
    "    if not src.exists():\n",
    "        raise FileNotFoundError(f\"Input not found: {src}\")\n",
    "\n",
    "    data = json.loads(src.read_text())\n",
    "    # --- TODO: your domain logic here ---\n",
    "    result = {\n",
    "        \"run_at_utc\": datetime.utcnow().isoformat(),\n",
    "        \"rows_in\": len(data) if isinstance(data, list) else 1,\n",
    "        \"note\": \"replace with real output\",\n",
    "        \"data_preview\": data[:3] if isinstance(data, list) else data\n",
    "    }\n",
    "    # ------------------------------------\n",
    "    out = Path(output_path)\n",
    "    out.parent.mkdir(parents=True, exist_ok=True)\n",
    "    out.write_text(json.dumps(result, indent=2))\n",
    "    logging.info(\"[my_task] wrote %s\", out)\n",
    "\n",
    "def main(argv=None):\n",
    "    parser = argparse.ArgumentParser(description=\"Homework task wrapper\")\n",
    "    parser.add_argument(\"--input\", required=True, help=\"Path to input JSON\")\n",
    "    parser.add_argument(\"--output\", required=True, help=\"Path to output JSON\")\n",
    "    args = parser.parse_args(argv)\n",
    "\n",
    "    logging.basicConfig(level=logging.INFO, handlers=[logging.StreamHandler(sys.stdout)])\n",
    "    try:\n",
    "        my_task(args.input, args.output)\n",
    "    except Exception as e:\n",
    "        logging.exception(\"Task failed: %s\", e)\n",
    "        sys.exit(1)\n",
    "\n",
    "if __name__ == \"__main__\":\n",
    "    # Example CLI (uncomment to run inside notebook):\n",
    "    # main([\"--input\", \"data/raw.ext\", \"--output\", \"data/out.json\"])\n",
    "    pass\n"
   ],
   "id": "6820601e0f7dcd55"
  },
  {
   "cell_type": "markdown",
   "metadata": {},
   "source": [
    "### Optional: Simple Retry Wrapper (fill in)\n",
    "Add a small retry with linear backoff to harden a task."
   ],
   "id": "191fc22f78942b6f"
  },
  {
   "cell_type": "code",
   "execution_count": 7,
   "metadata": {
    "ExecuteTime": {
     "end_time": "2025-08-27T21:48:20.266986Z",
     "start_time": "2025-08-27T21:48:20.264703Z"
    }
   },
   "outputs": [],
   "source": [
    "import time\n",
    "from functools import wraps\n",
    "from typing import Callable, Any\n",
    "\n",
    "def retry(n_tries: int = 3, delay_s: float = 0.2, backoff_s: float = 0.2, exceptions=(Exception,)):\n",
    "    \"\"\"\n",
    "    Retry decorator with linear backoff.\n",
    "    n_tries: total attempts (>=1)\n",
    "    delay_s: initial sleep before first retry\n",
    "    backoff_s: added sleep per retry attempt\n",
    "    exceptions: tuple of exception classes to catch\n",
    "    \"\"\"\n",
    "    def wrapper(fn: Callable):\n",
    "        @wraps(fn)\n",
    "        def inner(*args, **kwargs) -> Any:\n",
    "            attempt = 0\n",
    "            while True:\n",
    "                try:\n",
    "                    return fn(*args, **kwargs)\n",
    "                except exceptions as e:\n",
    "                    attempt += 1\n",
    "                    if attempt >= n_tries:\n",
    "                        raise\n",
    "                    sleep_for = delay_s + backoff_s * (attempt - 1)\n",
    "                    time.sleep(max(0.0, sleep_for))\n",
    "        return inner\n",
    "    return wrapper\n"
   ],
   "id": "22b1adc79d6451a0"
  },
  {
   "cell_type": "code",
   "execution_count": null,
   "outputs": [],
   "source": [],
   "metadata": {
    "collapsed": false
   },
   "id": "60f7543be4fce8f3"
  }
 ],
 "metadata": {
  "kernelspec": {
   "display_name": "Python 3",
   "language": "python",
   "name": "python3"
  },
  "language_info": {
   "name": "python",
   "version": "3.10"
  }
 },
 "nbformat": 4,
 "nbformat_minor": 5
}
