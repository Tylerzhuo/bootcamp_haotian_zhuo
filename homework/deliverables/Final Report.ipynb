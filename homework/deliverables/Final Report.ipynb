{
 "cells": [
  {
   "cell_type": "markdown",
   "source": [
    "# Final Report\n",
    "\n",
    "## Executive Summary\n",
    "- The baseline scenario delivers ~12% return with moderate volatility.  \n",
    "- Results are highly sensitive to data preprocessing assumptions (imputation vs outlier removal).  \n",
    "- Subgroup variation indicates uneven risk distribution across categories.  \n",
    "\n",
    "---\n",
    "\n",
    "## Charts with Interpretation\n",
    "\n",
    "### Chart 1: Risk–Return Scatter\n",
    "**Takeaway:** The baseline scenario delivers moderate returns with stable risk. The outlier-removal scenario shows higher returns but comes with increased volatility, highlighting the trade-off between risk and reward.  \n",
    "\n",
    "### Chart 2: Return by Scenario (Bar Chart)\n",
    "**Takeaway:** Returns vary significantly by data-preprocessing assumption. Mean imputation reduces returns to ~11%, while outlier-removal increases them to ~13.5%, showing results are sensitive to methodological choices.  \n",
    "\n",
    "### Chart 3: MetricA Over Time (Line Chart)\n",
    "**Takeaway:** Performance differs across categories, with some groups showing greater volatility. This indicates potential subgroup-specific risks that decision-makers should monitor.  \n",
    "\n",
    "---\n",
    "\n",
    "## Assumptions & Risks\n",
    "- **Imputation**: Filling missing values with mean/median may underestimate volatility, biasing results toward stability.  \n",
    "- **Outlier Removal**: Removing 3σ outliers may eliminate real but extreme events, overstating performance.  \n",
    "- **Risk**: Both approaches introduce bias—returns may be over- or underestimated depending on chosen method.  \n",
    "\n",
    "---\n",
    "\n",
    "## Sensitivity Summary\n",
    "| Assumption             | Baseline Return | Alt Scenario Return | Change |\n",
    "|-------------------------|-----------------|---------------------|--------|\n",
    "| Fill Nulls: Median      | 12%             | 10%                 | –2%   |\n",
    "| Remove Outliers: 3σ     | 12%             | 14%                 | +2%   |\n",
    "\n",
    "**Interpretation:**  \n",
    "- Imputation reduces returns, offering a conservative but possibly understated view.  \n",
    "- Outlier removal inflates returns, showing higher upside but greater risk exposure.  \n",
    "- Outcomes are highly assumption-sensitive: small methodological changes shift decisions materially.  \n",
    "\n",
    "---\n",
    "\n",
    "## Decision Implications\n",
    "- Baseline assumptions provide balanced returns and volatility, suitable for risk-moderate stakeholders.  \n",
    "- Outlier removal favors growth but increases exposure to uncertainty.  \n",
    "- Imputation yields conservative outcomes, potentially underestimating opportunities.  \n",
    "- Subgroup analysis reveals uneven risk distribution, requiring category-level monitoring.  \n",
    "- **Next Step:** Stakeholders must align choice of scenario with organizational priorities:  \n",
    "  - **Stability** → baseline  \n",
    "  - **Growth with risk** → outlier removal  \n",
    "  - **Conservatism** → imputation  \n"
   ],
   "metadata": {
    "collapsed": false
   },
   "id": "8a8230fbe0042ee0"
  },
  {
   "cell_type": "code",
   "execution_count": null,
   "outputs": [],
   "source": [],
   "metadata": {
    "collapsed": false
   },
   "id": "c67f83f0dcc93cd7"
  }
 ],
 "metadata": {
  "kernelspec": {
   "display_name": "Python 3",
   "language": "python",
   "name": "python3"
  },
  "language_info": {
   "codemirror_mode": {
    "name": "ipython",
    "version": 2
   },
   "file_extension": ".py",
   "mimetype": "text/x-python",
   "name": "python",
   "nbconvert_exporter": "python",
   "pygments_lexer": "ipython2",
   "version": "2.7.6"
  }
 },
 "nbformat": 4,
 "nbformat_minor": 5
}
